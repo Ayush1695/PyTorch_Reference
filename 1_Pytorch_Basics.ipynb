{
 "cells": [
  {
   "cell_type": "code",
   "execution_count": 1,
   "id": "4e6d19f3",
   "metadata": {
    "ExecuteTime": {
     "end_time": "2022-11-24T20:48:57.295391Z",
     "start_time": "2022-11-24T20:48:54.739956Z"
    }
   },
   "outputs": [],
   "source": [
    "import torch\n",
    "import pandas as pd\n",
    "import numpy as np"
   ]
  },
  {
   "cell_type": "code",
   "execution_count": 2,
   "id": "d9c01ac6",
   "metadata": {
    "ExecuteTime": {
     "end_time": "2022-11-24T20:49:00.906694Z",
     "start_time": "2022-11-24T20:49:00.879515Z"
    }
   },
   "outputs": [
    {
     "data": {
      "text/plain": [
       "tensor(3)"
      ]
     },
     "execution_count": 2,
     "metadata": {},
     "output_type": "execute_result"
    }
   ],
   "source": [
    "a = torch.tensor([1,2,3,4])\n",
    "\n",
    "# To access an index:\n",
    "a[2]"
   ]
  },
  {
   "cell_type": "code",
   "execution_count": 3,
   "id": "a268bc6e",
   "metadata": {
    "ExecuteTime": {
     "end_time": "2022-11-24T20:49:01.046261Z",
     "start_time": "2022-11-24T20:49:01.037811Z"
    }
   },
   "outputs": [
    {
     "data": {
      "text/plain": [
       "torch.int64"
      ]
     },
     "execution_count": 3,
     "metadata": {},
     "output_type": "execute_result"
    }
   ],
   "source": [
    "# To check the dtype\n",
    "a.dtype"
   ]
  },
  {
   "cell_type": "code",
   "execution_count": 4,
   "id": "2e5ce8bf",
   "metadata": {
    "ExecuteTime": {
     "end_time": "2022-11-24T20:49:01.224745Z",
     "start_time": "2022-11-24T20:49:01.189309Z"
    }
   },
   "outputs": [
    {
     "name": "stdout",
     "output_type": "stream",
     "text": [
      "tensor([0., 1., 2., 3.])\n"
     ]
    }
   ],
   "source": [
    "# Creating a float tensor\n",
    "b = torch.FloatTensor([0,1,2,3])\n",
    "b.type()\n",
    "print(b)"
   ]
  },
  {
   "cell_type": "code",
   "execution_count": 5,
   "id": "97fb7d69",
   "metadata": {
    "ExecuteTime": {
     "end_time": "2022-11-24T20:49:01.357201Z",
     "start_time": "2022-11-24T20:49:01.346955Z"
    }
   },
   "outputs": [
    {
     "data": {
      "text/plain": [
       "torch.float32"
      ]
     },
     "execution_count": 5,
     "metadata": {},
     "output_type": "execute_result"
    }
   ],
   "source": [
    "# To change the datatype\n",
    "a = torch.tensor([4,1,2,3,4])\n",
    "b = a.type(torch.float32)\n",
    "b.dtype"
   ]
  },
  {
   "cell_type": "code",
   "execution_count": 6,
   "id": "2d55efc7",
   "metadata": {
    "ExecuteTime": {
     "end_time": "2022-11-24T20:49:01.516772Z",
     "start_time": "2022-11-24T20:49:01.506447Z"
    }
   },
   "outputs": [
    {
     "name": "stdout",
     "output_type": "stream",
     "text": [
      "torch.Size([5])\n",
      "1\n"
     ]
    }
   ],
   "source": [
    "# To check the size and the dimension of the tensor\n",
    "a = torch.Tensor([0,1,2,3,4])\n",
    "print(a.size())\n",
    "print(a.ndimension())"
   ]
  },
  {
   "cell_type": "code",
   "execution_count": 7,
   "id": "4e6aeb8f",
   "metadata": {
    "ExecuteTime": {
     "end_time": "2022-11-24T20:49:01.667943Z",
     "start_time": "2022-11-24T20:49:01.653175Z"
    }
   },
   "outputs": [
    {
     "name": "stdout",
     "output_type": "stream",
     "text": [
      "tensor([[0.],\n",
      "        [1.],\n",
      "        [2.],\n",
      "        [3.],\n",
      "        [4.]])\n",
      "2\n",
      "tensor([[0.],\n",
      "        [1.],\n",
      "        [2.],\n",
      "        [3.],\n",
      "        [4.]])\n",
      "2\n"
     ]
    }
   ],
   "source": [
    "# To change the dimension of the tensor using \"view\" method\n",
    "a = torch.Tensor([0,1,2,3,4])\n",
    "a_col = a.view(5,1) # Row, column are index\n",
    "print(a_col)\n",
    "print(a_col.ndimension())\n",
    "\n",
    "print(a.view(-1,1)) # If you dont know number of elements write -1 to get all\n",
    "print(a.view(-1,1).ndimension())"
   ]
  },
  {
   "cell_type": "code",
   "execution_count": 8,
   "id": "9a52b4be",
   "metadata": {
    "ExecuteTime": {
     "end_time": "2022-11-24T20:49:01.810840Z",
     "start_time": "2022-11-24T20:49:01.795154Z"
    }
   },
   "outputs": [],
   "source": [
    "# Ex1 Back and forth conversion to pytorch and numpy\n",
    "numpy_array = np.array([0.0,1.0,2.0,3.0,4.0])\n",
    "torch_tensor = torch.from_numpy(numpy_array)\n",
    "back_to_numpy = torch_tensor.numpy()\n",
    "\n",
    "#Ex2 Pandas series to tensors\n",
    "pandas_series = pd.Series([0.1,2,0.3,10.1])\n",
    "pandas_to_torch = torch.from_numpy(pandas_series.values)\n",
    "\n",
    "#Ex3 Back and forth from list\n",
    "this_tensor = torch.tensor([0,1,2,3])\n",
    "torch_to_list=this_tensor.tolist() # This is a list now"
   ]
  },
  {
   "cell_type": "code",
   "execution_count": 9,
   "id": "780bab32",
   "metadata": {
    "ExecuteTime": {
     "end_time": "2022-11-24T20:49:01.973331Z",
     "start_time": "2022-11-24T20:49:01.958244Z"
    }
   },
   "outputs": [
    {
     "name": "stdout",
     "output_type": "stream",
     "text": [
      "tensor([1, 2, 3])\n",
      "tensor([100,   1,   2, 300, 400])\n"
     ]
    }
   ],
   "source": [
    "# Indexing and slicing is exactly same as python\n",
    "c = torch.tensor([100,1,2,3,4])\n",
    "d = c[1:4]\n",
    "print(d)\n",
    "\n",
    "# Assigning new values\n",
    "c[3:5] = torch.tensor([300.0,400.0])\n",
    "print(c)"
   ]
  },
  {
   "cell_type": "code",
   "execution_count": 10,
   "id": "667f3935",
   "metadata": {
    "ExecuteTime": {
     "end_time": "2022-11-24T20:49:02.145825Z",
     "start_time": "2022-11-24T20:49:02.117526Z"
    }
   },
   "outputs": [
    {
     "name": "stdout",
     "output_type": "stream",
     "text": [
      "tensor([3., 5.])\n",
      "Multiplication of two vectors tensor([2., 6.])\n",
      "Dot product of two vectos tensor(8.)\n",
      "Mean tensor(1.5000)\n",
      "After sin function tensor([ 0.0000e+00,  1.0000e+00, -8.7423e-08])\n"
     ]
    }
   ],
   "source": [
    "# Basic tensor opertaion\n",
    "u = torch.tensor([1.0,2.0])\n",
    "v = torch.tensor([2.0,3.0])\n",
    "\n",
    "# Note the tensors should be of same type\n",
    "z = u + v\n",
    "print(z)\n",
    "\n",
    "# scalar addition multiplicatiom is straight forward\n",
    "z+1 # scalar addition - This is broadcasting\n",
    "2*z # scalar multiplication\n",
    "\n",
    "# Multiplication of two vectors:\n",
    "print(\"Multiplication of two vectors\", u*v)\n",
    "\n",
    "# Dot product\n",
    "print(\"Dot product of two vectos\", torch.dot(u,v))\n",
    "\n",
    "# Mean of a tensor \n",
    "print(\"Mean\", u.mean()) # similarly max, min\n",
    "\n",
    "# Using np.pi\n",
    "x = torch.tensor([0, np.pi/2, np.pi])\n",
    "\n",
    "# Applying sin function to all the elements in a tensor\n",
    "y = torch.sin(x) # similarly cos, tan and so on\n",
    "print(\"After sin function\", y)"
   ]
  },
  {
   "cell_type": "code",
   "execution_count": 11,
   "id": "a57e16ad",
   "metadata": {
    "ExecuteTime": {
     "end_time": "2022-11-24T20:49:02.291521Z",
     "start_time": "2022-11-24T20:49:02.280576Z"
    }
   },
   "outputs": [
    {
     "name": "stdout",
     "output_type": "stream",
     "text": [
      "tensor([-2., -1.,  0.,  1.,  2.])\n",
      "tensor([-2.0000, -1.5000, -1.0000, -0.5000,  0.0000,  0.5000,  1.0000,  1.5000,\n",
      "         2.0000])\n"
     ]
    }
   ],
   "source": [
    "# linspace function -to generate a tensor\n",
    "\n",
    "x = torch.linspace(-2,2,steps = 5) # 5 steps are defined in this\n",
    "print(x)\n",
    "\n",
    "#num parameter\n",
    "x = torch.linspace(-2,2,steps= 9) # gives evenly spaced elemets forming a tensor\n",
    "print(x)"
   ]
  },
  {
   "cell_type": "code",
   "execution_count": 12,
   "id": "b129198b",
   "metadata": {
    "ExecuteTime": {
     "end_time": "2022-11-24T20:49:03.294741Z",
     "start_time": "2022-11-24T20:49:02.439516Z"
    }
   },
   "outputs": [
    {
     "data": {
      "text/plain": [
       "[<matplotlib.lines.Line2D at 0x7fc142d2fe20>]"
      ]
     },
     "execution_count": 12,
     "metadata": {},
     "output_type": "execute_result"
    },
    {
     "data": {
      "image/png": "[encoded data removed]",
      "text/plain": [
       "<Figure size 432x288 with 1 Axes>"
      ]
     },
     "metadata": {
      "needs_background": "light"
     },
     "output_type": "display_data"
    }
   ],
   "source": [
    "# Plotting mathematical functions\n",
    "x = torch.linspace(0,2*np.pi, 100)\n",
    "y = torch.sin(x)\n",
    " \n",
    "import matplotlib.pyplot as plt\n",
    "%matplotlib inline\n",
    "plt.plot(x.numpy(), y.numpy())"
   ]
  },
  {
   "cell_type": "markdown",
   "id": "238f2cf5",
   "metadata": {},
   "source": [
    "## 2-D Tensors"
   ]
  },
  {
   "cell_type": "code",
   "execution_count": 13,
   "id": "8dfcf687",
   "metadata": {
    "ExecuteTime": {
     "end_time": "2022-11-24T20:49:03.305597Z",
     "start_time": "2022-11-24T20:49:03.302154Z"
    }
   },
   "outputs": [
    {
     "name": "stdout",
     "output_type": "stream",
     "text": [
      "tensor([[11, 12, 13],\n",
      "        [21, 22, 23],\n",
      "        [31, 32, 33]])\n",
      "Dimension 2\n",
      "Shape torch.Size([3, 3])\n",
      "Total Elements 9\n"
     ]
    }
   ],
   "source": [
    "# Ex1\n",
    "a = [[11,12,13], [21,22,23],[31,32,33]]\n",
    "A = torch.tensor(a)\n",
    "print(A)\n",
    "\n",
    "# ndimension is also sometimes called as rank\n",
    "print(\"Dimension\", A.ndimension())\n",
    "\n",
    "# shape gives the total rows and column\n",
    "print(\"Shape\", A.shape)\n",
    "      \n",
    "# numel method gives us the total elements in the tensor\n",
    "print(\"Total Elements\", A.numel())"
   ]
  },
  {
   "cell_type": "code",
   "execution_count": 14,
   "id": "3fbaa037",
   "metadata": {
    "ExecuteTime": {
     "end_time": "2022-11-24T20:49:03.320658Z",
     "start_time": "2022-11-24T20:49:03.314820Z"
    }
   },
   "outputs": [
    {
     "name": "stdout",
     "output_type": "stream",
     "text": [
      "A[1][2]: tensor(23)\n",
      "A[1:3,2] tensor([23, 33])\n",
      "2*A: tensor([[22, 24, 26],\n",
      "        [42, 44, 46],\n",
      "        [62, 64, 66]])\n",
      "tensor([[0, 2],\n",
      "        [0, 2]])\n"
     ]
    }
   ],
   "source": [
    "# Indexing and slicing of 2-D tensor\n",
    "print(\"A[1][2]:\", A[1][2])\n",
    "print(\"A[1:3,2]\", A[1:3,2])\n",
    "\n",
    "# Basic operations in tensors:\n",
    "# Simple A+B, A-B and so on\n",
    "\n",
    "# Multiplying by a scalar\n",
    "print(\"2*A:\",2*A)\n",
    "\n",
    "# Hadamard product is also easy - A*B and so on\n",
    "\n",
    "# Matrix multiplication\n",
    "A = torch.tensor([[0,1,1],[1,0,1]])\n",
    "B = torch.tensor([[1,1],[1,1],[-1,1]])\n",
    "C = torch.mm(A,B)\n",
    "print(C)\n"
   ]
  },
  {
   "cell_type": "markdown",
   "id": "40e5a7ef",
   "metadata": {},
   "source": [
    "## Differentiation in PyTorch"
   ]
  },
  {
   "cell_type": "code",
   "execution_count": 15,
   "id": "1306a70d",
   "metadata": {
    "ExecuteTime": {
     "end_time": "2022-11-24T20:49:03.781575Z",
     "start_time": "2022-11-24T20:49:03.770615Z"
    }
   },
   "outputs": [],
   "source": [
    "# Differential in PyTorch\n",
    "x = torch.tensor(2.0, requires_grad = True) # Tells pytorch that this value will be used while evaluating the differential\n",
    "y = x**2"
   ]
  },
  {
   "cell_type": "code",
   "execution_count": 16,
   "id": "4b9f2dca",
   "metadata": {
    "ExecuteTime": {
     "end_time": "2022-11-24T20:49:04.227791Z",
     "start_time": "2022-11-24T20:49:04.182248Z"
    }
   },
   "outputs": [
    {
     "name": "stdout",
     "output_type": "stream",
     "text": [
      "x.grad tensor(6.)\n"
     ]
    }
   ],
   "source": [
    "y.backward() # Note\n",
    "'''\n",
    "1. The backward function calculates the derivative of y\n",
    "\n",
    "2. Now to evaluate the derivative of y at x equals 2, \n",
    "we need to call the grad attribute on x. \n",
    "Doing so takes the value of x equals 2 and plugs it in y’s derivative\n",
    "'''\n",
    "# print(x.grad)\n",
    "\n",
    "# Ex2 z = x**2 + 2*x + 1 , let say we want to evaluate the value, its derivate value at x = 2 then:\n",
    "\n",
    "x = torch.tensor(2.0, requires_grad = True)\n",
    "z = x**2 + 2*x + 1\n",
    "z.backward()\n",
    "print(\"x.grad\", x.grad) # this will be six as the value after the differentiation of z at x = 2 is 6"
   ]
  },
  {
   "cell_type": "markdown",
   "id": "36365982",
   "metadata": {
    "ExecuteTime": {
     "end_time": "2022-11-23T23:27:26.322367Z",
     "start_time": "2022-11-23T23:27:26.308491Z"
    }
   },
   "source": [
    "## Partial Differentiation in PyTorch"
   ]
  },
  {
   "cell_type": "code",
   "execution_count": 17,
   "id": "258979f5",
   "metadata": {
    "ExecuteTime": {
     "end_time": "2022-11-24T20:49:04.792937Z",
     "start_time": "2022-11-24T20:49:04.779407Z"
    }
   },
   "outputs": [
    {
     "name": "stdout",
     "output_type": "stream",
     "text": [
      "tensor(4.)\n",
      "tensor(1.)\n"
     ]
    }
   ],
   "source": [
    "u = torch.tensor(1.0,requires_grad = True)\n",
    "v = torch.tensor(2.0,requires_grad = True)\n",
    "f = u*v + u**2\n",
    "f.backward() # does partial differentiation both with respect to u and v\n",
    "print(u.grad) # partially differentiates f w.r.t. u and then puts u=1, v=2 \n",
    "print(v.grad) # partially differentiates f w.r.t. v and then puts u=1, v=2 "
   ]
  },
  {
   "cell_type": "code",
   "execution_count": 18,
   "id": "eef4fa49",
   "metadata": {
    "ExecuteTime": {
     "end_time": "2022-11-24T20:49:05.357117Z",
     "start_time": "2022-11-24T20:49:05.248069Z"
    }
   },
   "outputs": [
    {
     "data": {
      "image/png": "[encoded data removed]",
      "text/plain": [
       "<Figure size 432x288 with 1 Axes>"
      ]
     },
     "metadata": {
      "needs_background": "light"
     },
     "output_type": "display_data"
    }
   ],
   "source": [
    "# Calculate the derivative with multiple values\n",
    "\n",
    "x = torch.linspace(-10, 10, 10, requires_grad = True)\n",
    "Y = x ** 2\n",
    "y = torch.sum(x ** 2)\n",
    "\n",
    "# Take the derivative with respect to multiple value. Plot out the function and its derivative\n",
    "\n",
    "y.backward()\n",
    "\n",
    "plt.plot(x.detach().numpy(), Y.detach().numpy(), label = 'function')\n",
    "plt.plot(x.detach().numpy(), x.grad.detach().numpy(), label = 'derivative')\n",
    "plt.xlabel('x')\n",
    "plt.legend()\n",
    "plt.show()"
   ]
  },
  {
   "cell_type": "markdown",
   "id": "1f721305",
   "metadata": {},
   "source": [
    "The  method <code> detach()</code>  excludes further tracking of operations in the graph, and therefore the subgraph will not record operations. This allows us to then convert the tensor to a numpy array. To understand the sum operation"
   ]
  },
  {
   "cell_type": "code",
   "execution_count": 19,
   "id": "5c7d48f7",
   "metadata": {
    "ExecuteTime": {
     "end_time": "2022-11-24T20:49:06.266797Z",
     "start_time": "2022-11-24T20:49:06.247749Z"
    }
   },
   "outputs": [
    {
     "data": {
      "text/plain": [
       "tensor([[1., 1.]])"
      ]
     },
     "execution_count": 19,
     "metadata": {},
     "output_type": "execute_result"
    }
   ],
   "source": [
    "torch.ones(1,2)"
   ]
  },
  {
   "cell_type": "markdown",
   "id": "346df5bd",
   "metadata": {},
   "source": [
    "## Simple Dataset"
   ]
  },
  {
   "cell_type": "code",
   "execution_count": 44,
   "id": "27e9f674",
   "metadata": {
    "ExecuteTime": {
     "end_time": "2022-11-24T21:28:52.365514Z",
     "start_time": "2022-11-24T21:28:52.351870Z"
    }
   },
   "outputs": [],
   "source": [
    "from torch.utils.data import Dataset\n",
    "class toy_set(Dataset):\n",
    "    \n",
    "    def __init__(self, length = 100, transform = None):\n",
    "        self.x = 2*torch.ones(length,2)\n",
    "        self.y = torch.ones(length,1)\n",
    "        \n",
    "        self.len = length\n",
    "        self.transform = transform\n",
    "        \n",
    "    def __getitem__(self, index):\n",
    "        sample = self.x[index], self.y[index]\n",
    "        if self.transform:\n",
    "            if self.transform:\n",
    "                sample = self.transform(sample)\n",
    "        return sample\n",
    "    \n",
    "    def __len__(self):\n",
    "        return self.len"
   ]
  },
  {
   "cell_type": "code",
   "execution_count": 57,
   "id": "df49917d",
   "metadata": {
    "ExecuteTime": {
     "end_time": "2022-11-24T21:39:39.059043Z",
     "start_time": "2022-11-24T21:39:39.040575Z"
    }
   },
   "outputs": [
    {
     "name": "stdout",
     "output_type": "stream",
     "text": [
      "x: tensor([2., 2.]) y: tensor([1.])\n",
      "x: tensor([2., 2.]) y: tensor([1.])\n",
      "x: tensor([2., 2.]) y: tensor([1.])\n"
     ]
    }
   ],
   "source": [
    "# Printing the dataset\n",
    "dataset = toy_set()\n",
    "for i in range(3):\n",
    "    x,y = dataset[i]\n",
    "    print('x:', x, 'y:', y)"
   ]
  },
  {
   "cell_type": "markdown",
   "id": "8e1eed88",
   "metadata": {
    "ExecuteTime": {
     "end_time": "2022-11-24T21:28:53.416326Z",
     "start_time": "2022-11-24T21:28:53.403633Z"
    }
   },
   "source": [
    "## Transforms"
   ]
  },
  {
   "cell_type": "code",
   "execution_count": 58,
   "id": "af009291",
   "metadata": {
    "ExecuteTime": {
     "end_time": "2022-11-24T21:39:40.252742Z",
     "start_time": "2022-11-24T21:39:40.242048Z"
    }
   },
   "outputs": [],
   "source": [
    "class add_mult(object):\n",
    "    def __init__(self, addx = 1, muly = 1):\n",
    "        self.addx=addx\n",
    "        self.muly=muly\n",
    "        \n",
    "    def __call__(self, sample):\n",
    "        x = sample[0]\n",
    "        y = sample[1]\n",
    "        x+=self.addx\n",
    "        y*=self.muly\n",
    "        sample = x,y\n",
    "        return sample"
   ]
  },
  {
   "cell_type": "code",
   "execution_count": 52,
   "id": "8b8cc78b",
   "metadata": {
    "ExecuteTime": {
     "end_time": "2022-11-24T21:38:02.093132Z",
     "start_time": "2022-11-24T21:38:02.083167Z"
    }
   },
   "outputs": [
    {
     "name": "stdout",
     "output_type": "stream",
     "text": [
      "x_: tensor([3., 3.]) y_: tensor([1.])\n"
     ]
    }
   ],
   "source": [
    "dataset = toy_set()\n",
    "a_m = add_mult()\n",
    "\n",
    "x_,y_ = a_m(dataset[0])\n",
    "\n",
    "print(\"x_:\", x_, \"y_:\", y)"
   ]
  },
  {
   "cell_type": "code",
   "execution_count": 60,
   "id": "7a7cba07",
   "metadata": {
    "ExecuteTime": {
     "end_time": "2022-11-24T21:40:12.925696Z",
     "start_time": "2022-11-24T21:40:12.913424Z"
    }
   },
   "outputs": [
    {
     "name": "stdout",
     "output_type": "stream",
     "text": [
      "(tensor([2., 2.]), tensor([1.])) Transformed: (tensor([3., 3.]), tensor([1.]))\n"
     ]
    }
   ],
   "source": [
    "# Applying transformation to entire data\n",
    "dataset = toy_set()\n",
    "dataset_ = toy_set(transform = a_m) # \"_\" denotes the transformed data\n",
    "\n",
    "print(dataset[0], 'Transformed:',dataset_[0])"
   ]
  },
  {
   "cell_type": "markdown",
   "id": "b2a81abf",
   "metadata": {},
   "source": [
    "## Transform Compose"
   ]
  },
  {
   "cell_type": "code",
   "execution_count": 61,
   "id": "454b833d",
   "metadata": {
    "ExecuteTime": {
     "end_time": "2022-11-24T21:48:09.776685Z",
     "start_time": "2022-11-24T21:48:09.130676Z"
    }
   },
   "outputs": [],
   "source": [
    "from torchvision import transforms\n",
    "\n",
    "# Creating one more function:\n",
    "class mult(object):\n",
    "    def __init__(self, mul = 100):\n",
    "        self.mul=mul\n",
    "        \n",
    "    def __call__(self, sample):\n",
    "        x = sample[0]\n",
    "        y = sample[1]\n",
    "        x*=self.mul\n",
    "        y*=self.mul\n",
    "        sample = x,y\n",
    "        return sample"
   ]
  },
  {
   "cell_type": "code",
   "execution_count": 85,
   "id": "c48032cf",
   "metadata": {
    "ExecuteTime": {
     "end_time": "2022-11-24T21:52:42.891023Z",
     "start_time": "2022-11-24T21:52:42.880174Z"
    }
   },
   "outputs": [],
   "source": [
    "dataset = toy_set()\n",
    "data_transform=transforms.Compose([add_mult(), mult()]) # works like a pipeline\n",
    "x_,y_ = data_transform(dataset[0])\n",
    "\n",
    "# Or you can pass this directly to the dataset\n",
    "dataset_ = toy_set(transform = data_transform)"
   ]
  },
  {
   "cell_type": "code",
   "execution_count": 87,
   "id": "8001b2c0",
   "metadata": {
    "ExecuteTime": {
     "end_time": "2022-11-24T21:52:56.579211Z",
     "start_time": "2022-11-24T21:52:56.570732Z"
    }
   },
   "outputs": [
    {
     "data": {
      "text/plain": [
       "(tensor([30100., 30100.]), tensor([10000.]))"
      ]
     },
     "execution_count": 87,
     "metadata": {},
     "output_type": "execute_result"
    }
   ],
   "source": [
    "dataset_[0]"
   ]
  },
  {
   "cell_type": "markdown",
   "id": "1b037d45",
   "metadata": {},
   "source": [
    "## Unstructured Datasets"
   ]
  },
  {
   "cell_type": "markdown",
   "id": "7906da3a",
   "metadata": {},
   "source": [
    "Run the below 2 lines of code if you havent downloaded data yet"
   ]
  },
  {
   "cell_type": "code",
   "execution_count": null,
   "id": "8a584a64",
   "metadata": {},
   "outputs": [],
   "source": [
    "#! wget https://cf-courses-data.s3.us.cloud-object-storage.appdomain.cloud/IBMDeveloperSkillsNetwork-DL0110EN-SkillsNetwork/labs/Week1/data/img.tar.gz -P resources/data"
   ]
  },
  {
   "cell_type": "code",
   "execution_count": null,
   "id": "d456610d",
   "metadata": {},
   "outputs": [],
   "source": [
    "#!tar -xf resources/data/img.tar.gz "
   ]
  },
  {
   "cell_type": "code",
   "execution_count": 36,
   "id": "d12ebb33",
   "metadata": {
    "ExecuteTime": {
     "end_time": "2022-11-24T23:32:29.391236Z",
     "start_time": "2022-11-24T23:32:29.380447Z"
    }
   },
   "outputs": [],
   "source": [
    "from PIL import Image\n",
    "import pandas as pd\n",
    "import os\n",
    "from matplotlib.pyplot import imshow\n",
    "from torch.utils.data import Dataset, DataLoader\n",
    "import matplotlib.pyplot as plt"
   ]
  },
  {
   "cell_type": "code",
   "execution_count": 37,
   "id": "eac314a8",
   "metadata": {
    "ExecuteTime": {
     "end_time": "2022-11-24T23:32:30.077171Z",
     "start_time": "2022-11-24T23:32:30.028746Z"
    }
   },
   "outputs": [
    {
     "data": {
      "text/html": [
       "<div>\n",
       "<style scoped>\n",
       "    .dataframe tbody tr th:only-of-type {\n",
       "        vertical-align: middle;\n",
       "    }\n",
       "\n",
       "    .dataframe tbody tr th {\n",
       "        vertical-align: top;\n",
       "    }\n",
       "\n",
       "    .dataframe thead th {\n",
       "        text-align: right;\n",
       "    }\n",
       "</style>\n",
       "<table border=\"1\" class=\"dataframe\">\n",
       "  <thead>\n",
       "    <tr style=\"text-align: right;\">\n",
       "      <th></th>\n",
       "      <th>category</th>\n",
       "      <th>image</th>\n",
       "    </tr>\n",
       "  </thead>\n",
       "  <tbody>\n",
       "    <tr>\n",
       "      <th>0</th>\n",
       "      <td>Ankle boot</td>\n",
       "      <td>img/fashion0.png</td>\n",
       "    </tr>\n",
       "    <tr>\n",
       "      <th>1</th>\n",
       "      <td>T-shirt</td>\n",
       "      <td>img/fashion1.png</td>\n",
       "    </tr>\n",
       "    <tr>\n",
       "      <th>2</th>\n",
       "      <td>T-shirt</td>\n",
       "      <td>img/fashion2.png</td>\n",
       "    </tr>\n",
       "    <tr>\n",
       "      <th>3</th>\n",
       "      <td>Dress</td>\n",
       "      <td>img/fashion3.png</td>\n",
       "    </tr>\n",
       "    <tr>\n",
       "      <th>4</th>\n",
       "      <td>T-shirt</td>\n",
       "      <td>img/fashion4.png</td>\n",
       "    </tr>\n",
       "  </tbody>\n",
       "</table>\n",
       "</div>"
      ],
      "text/plain": [
       "     category             image\n",
       "0  Ankle boot  img/fashion0.png\n",
       "1     T-shirt  img/fashion1.png\n",
       "2     T-shirt  img/fashion2.png\n",
       "3       Dress  img/fashion3.png\n",
       "4     T-shirt  img/fashion4.png"
      ]
     },
     "execution_count": 37,
     "metadata": {},
     "output_type": "execute_result"
    }
   ],
   "source": [
    "directory = \"resources/data\"\n",
    "csv_file = \"index.csv\"\n",
    "csv_path = os.path.join(directory, csv_file)\n",
    "\n",
    "data_name = pd.read_csv(csv_path)\n",
    "data_name.head()"
   ]
  },
  {
   "cell_type": "code",
   "execution_count": 39,
   "id": "2ef64100",
   "metadata": {
    "ExecuteTime": {
     "end_time": "2022-11-24T23:32:38.468733Z",
     "start_time": "2022-11-24T23:32:38.376310Z"
    }
   },
   "outputs": [
    {
     "name": "stdout",
     "output_type": "stream",
     "text": [
      "File Name img/fashion1.png\n",
      "class or y: T-shirt\n"
     ]
    },
    {
     "data": {
      "image/png": "[encoded data removed]",
      "text/plain": [
       "<Figure size 432x288 with 1 Axes>"
      ]
     },
     "metadata": {
      "needs_background": "light"
     },
     "output_type": "display_data"
    }
   ],
   "source": [
    "# How to check an image using Image function from PIL\n",
    "print('File Name', data_name.iloc[1,1])\n",
    "print(\"class or y:\", data_name.iloc[1,0])\n",
    "\n",
    "image_name = data_name.iloc[1,1]\n",
    "image_path = os.path.join(directory,image_name)\n",
    "\n",
    "\n",
    "image = Image.open(image_path)\n",
    "plt.imshow(image, cmap = 'gray', vmin = 0, vmax = 255)\n",
    "plt.title(data_name.iloc[1,0])\n",
    "plt.show()"
   ]
  },
  {
   "cell_type": "code",
   "execution_count": 40,
   "id": "2d205723",
   "metadata": {
    "ExecuteTime": {
     "end_time": "2022-11-24T23:40:26.679509Z",
     "start_time": "2022-11-24T23:40:26.665055Z"
    }
   },
   "outputs": [],
   "source": [
    "class Dataset(Dataset):\n",
    "    def __init__(self, csv_file, data_dir, transform = None):\n",
    "        self.transform = transform\n",
    "        \n",
    "        self.data_dir=data_dir\n",
    "        data_dircsv_file = os.path.join(self.data_dir, csv_file)\n",
    "        \n",
    "        self.data_name = pd.read_csv(data_dircsv_file)\n",
    "        \n",
    "        self.len = self.data_name.shape[0]\n",
    "        \n",
    "    def __len__(self):\n",
    "        return self.len\n",
    "    \n",
    "    def __getitem__(self, idx):\n",
    "        img_name = os.path.join(self.data_dir, self.data_name.iloc[idx,1])\n",
    "        image = Image.open(img_name)\n",
    "        \n",
    "        y = self.data_name.iloc[idx,0]\n",
    "        \n",
    "        if self.transform:\n",
    "            image = self.transform(image)\n",
    "            \n",
    "        return image,y"
   ]
  },
  {
   "cell_type": "code",
   "execution_count": 45,
   "id": "45aa5d65",
   "metadata": {
    "ExecuteTime": {
     "end_time": "2022-11-24T23:41:48.074843Z",
     "start_time": "2022-11-24T23:41:48.018710Z"
    }
   },
   "outputs": [
    {
     "data": {
      "image/png": "[encoded data removed]",
      "text/plain": [
       "<PIL.PngImagePlugin.PngImageFile image mode=L size=28x28>"
      ]
     },
     "execution_count": 45,
     "metadata": {},
     "output_type": "execute_result"
    }
   ],
   "source": [
    "dataset = Dataset(csv_file=csv_file, data_dir = directory)\n",
    "image0 = dataset[0][0]\n",
    "label0 = dataset[0][1]\n",
    "\n",
    "image0"
   ]
  },
  {
   "cell_type": "markdown",
   "id": "84a0330a",
   "metadata": {},
   "source": [
    "## Torchvision transforms"
   ]
  },
  {
   "cell_type": "code",
   "execution_count": 62,
   "id": "f334dba1",
   "metadata": {
    "ExecuteTime": {
     "end_time": "2022-11-25T00:10:32.593385Z",
     "start_time": "2022-11-25T00:10:32.533836Z"
    }
   },
   "outputs": [],
   "source": [
    "import torchvision.transforms as transforms\n",
    "\n",
    "#transforms.CenterCrop(20) # helps in cropping the image \n",
    "#transforms.ToTensor() # Converts the image to a tensor\n",
    "\n",
    "croptensor_data_transform = transforms.Compose([transforms.CenterCrop(20), transforms.ToTensor()])\n",
    "dataset = Dataset(csv_file = csv_file, data_dir=directory, transform = croptensor_data_transform)"
   ]
  },
  {
   "cell_type": "code",
   "execution_count": 55,
   "id": "438b5597",
   "metadata": {
    "ExecuteTime": {
     "end_time": "2022-11-24T23:55:03.444577Z",
     "start_time": "2022-11-24T23:55:03.429435Z"
    }
   },
   "outputs": [
    {
     "data": {
      "text/plain": [
       "torch.Size([1, 20, 20])"
      ]
     },
     "execution_count": 55,
     "metadata": {},
     "output_type": "execute_result"
    }
   ],
   "source": [
    "dataset[0][0].shape"
   ]
  },
  {
   "cell_type": "markdown",
   "id": "71fee790",
   "metadata": {},
   "source": [
    "## Torchvision Datasets"
   ]
  },
  {
   "cell_type": "code",
   "execution_count": 56,
   "id": "c5cd71f8",
   "metadata": {
    "ExecuteTime": {
     "end_time": "2022-11-24T23:56:02.806790Z",
     "start_time": "2022-11-24T23:56:02.798849Z"
    }
   },
   "outputs": [],
   "source": [
    "import torchvision.datasets as dsets"
   ]
  },
  {
   "cell_type": "code",
   "execution_count": 59,
   "id": "9adc65e9",
   "metadata": {
    "ExecuteTime": {
     "end_time": "2022-11-24T23:58:38.379087Z",
     "start_time": "2022-11-24T23:58:34.515126Z"
    }
   },
   "outputs": [
    {
     "name": "stdout",
     "output_type": "stream",
     "text": [
      "Downloading http://yann.lecun.com/exdb/mnist/train-images-idx3-ubyte.gz\n",
      "Downloading http://yann.lecun.com/exdb/mnist/train-images-idx3-ubyte.gz to ./data/MNIST/raw/train-images-idx3-ubyte.gz\n"
     ]
    },
    {
     "data": {
      "application/vnd.jupyter.widget-view+json": {
       "model_id": "d028cde448c54ada85dcadb3a0ec24b1",
       "version_major": 2,
       "version_minor": 0
      },
      "text/plain": [
       "  0%|          | 0/9912422 [00:00<?, ?it/s]"
      ]
     },
     "metadata": {},
     "output_type": "display_data"
    },
    {
     "name": "stdout",
     "output_type": "stream",
     "text": [
      "Extracting ./data/MNIST/raw/train-images-idx3-ubyte.gz to ./data/MNIST/raw\n",
      "\n",
      "Downloading http://yann.lecun.com/exdb/mnist/train-labels-idx1-ubyte.gz\n",
      "Downloading http://yann.lecun.com/exdb/mnist/train-labels-idx1-ubyte.gz to ./data/MNIST/raw/train-labels-idx1-ubyte.gz\n"
     ]
    },
    {
     "data": {
      "application/vnd.jupyter.widget-view+json": {
       "model_id": "a6d3386e1dc7452082a49bc5d23369a4",
       "version_major": 2,
       "version_minor": 0
      },
      "text/plain": [
       "  0%|          | 0/28881 [00:00<?, ?it/s]"
      ]
     },
     "metadata": {},
     "output_type": "display_data"
    },
    {
     "name": "stdout",
     "output_type": "stream",
     "text": [
      "Extracting ./data/MNIST/raw/train-labels-idx1-ubyte.gz to ./data/MNIST/raw\n",
      "\n",
      "Downloading http://yann.lecun.com/exdb/mnist/t10k-images-idx3-ubyte.gz\n",
      "Downloading http://yann.lecun.com/exdb/mnist/t10k-images-idx3-ubyte.gz to ./data/MNIST/raw/t10k-images-idx3-ubyte.gz\n"
     ]
    },
    {
     "data": {
      "application/vnd.jupyter.widget-view+json": {
       "model_id": "8ee87331e5bd44f8976b09fe7470f807",
       "version_major": 2,
       "version_minor": 0
      },
      "text/plain": [
       "  0%|          | 0/1648877 [00:00<?, ?it/s]"
      ]
     },
     "metadata": {},
     "output_type": "display_data"
    },
    {
     "name": "stdout",
     "output_type": "stream",
     "text": [
      "Extracting ./data/MNIST/raw/t10k-images-idx3-ubyte.gz to ./data/MNIST/raw\n",
      "\n",
      "Downloading http://yann.lecun.com/exdb/mnist/t10k-labels-idx1-ubyte.gz\n",
      "Downloading http://yann.lecun.com/exdb/mnist/t10k-labels-idx1-ubyte.gz to ./data/MNIST/raw/t10k-labels-idx1-ubyte.gz\n"
     ]
    },
    {
     "data": {
      "application/vnd.jupyter.widget-view+json": {
       "model_id": "e0c54cb01ead41978b0b55a9331ed220",
       "version_major": 2,
       "version_minor": 0
      },
      "text/plain": [
       "  0%|          | 0/4542 [00:00<?, ?it/s]"
      ]
     },
     "metadata": {},
     "output_type": "display_data"
    },
    {
     "name": "stdout",
     "output_type": "stream",
     "text": [
      "Extracting ./data/MNIST/raw/t10k-labels-idx1-ubyte.gz to ./data/MNIST/raw\n",
      "\n"
     ]
    }
   ],
   "source": [
    "# Using MNIST dataset\n",
    "dataset = dsets.MNIST(root='./data',\n",
    "                      train = False,\n",
    "                      download = True,\n",
    "                      transform = transforms.ToTensor())\n"
   ]
  },
  {
   "cell_type": "code",
   "execution_count": 70,
   "id": "2b473e13",
   "metadata": {
    "ExecuteTime": {
     "end_time": "2022-11-25T00:12:26.525557Z",
     "start_time": "2022-11-25T00:12:26.414299Z"
    }
   },
   "outputs": [
    {
     "data": {
      "image/png": "[encoded data removed]",
      "text/plain": [
       "<Figure size 432x288 with 1 Axes>"
      ]
     },
     "metadata": {
      "needs_background": "light"
     },
     "output_type": "display_data"
    }
   ],
   "source": [
    "dataset = Dataset(csv_file = csv_file, data_dir=directory, transform = croptensor_data_transform)\n",
    "def show_data(data_sample, shape = (28, 28)):\n",
    "    plt.imshow(data_sample[0].numpy().reshape(shape), cmap='gray')\n",
    "    plt.title('y = ' + data_sample[1])\n",
    "    \n",
    "show_data(dataset[0],shape = (20, 20))"
   ]
  }
 ],
 "metadata": {
  "kernelspec": {
   "display_name": "Python 3 (ipykernel)",
   "language": "python",
   "name": "python3"
  },
  "language_info": {
   "codemirror_mode": {
    "name": "ipython",
    "version": 3
   },
   "file_extension": ".py",
   "mimetype": "text/x-python",
   "name": "python",
   "nbconvert_exporter": "python",
   "pygments_lexer": "ipython3",
   "version": "3.9.12"
  },
  "varInspector": {
   "cols": {
    "lenName": 16,
    "lenType": 16,
    "lenVar": 40
   },
   "kernels_config": {
    "python": {
     "delete_cmd_postfix": "",
     "delete_cmd_prefix": "del ",
     "library": "var_list.py",
     "varRefreshCmd": "print(var_dic_list())"
    },
    "r": {
     "delete_cmd_postfix": ") ",
     "delete_cmd_prefix": "rm(",
     "library": "var_list.r",
     "varRefreshCmd": "cat(var_dic_list()) "
    }
   },
   "types_to_exclude": [
    "module",
    "function",
    "builtin_function_or_method",
    "instance",
    "_Feature"
   ],
   "window_display": false
  }
 },
 "nbformat": 4,
 "nbformat_minor": 5
}
