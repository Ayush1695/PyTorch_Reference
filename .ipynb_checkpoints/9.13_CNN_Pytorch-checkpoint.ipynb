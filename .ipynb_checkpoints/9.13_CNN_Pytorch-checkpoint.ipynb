{
 "cells": [
  {
   "cell_type": "markdown",
   "id": "5a244940-2c10-46bd-8e4e-ad8ae01e927b",
   "metadata": {},
   "source": [
    "\n",
    "<h3>Objective for this Notebook<h3>    \n",
    "<h5> 1. Learn Convolutional Neral Network</h5>\n",
    "<h5> 2. Define Softmax , Criterion function, Optimizer and Train the  Model</h5>    \n",
    "\n"
   ]
  },
  {
   "cell_type": "markdown",
   "id": "1b0ceeea-ae1b-4ceb-8a5e-2f61b7670367",
   "metadata": {},
   "source": [
    "\n",
    "# Table of Contents\n",
    "In this lab, we will use a Convolutional Neral Networks to classify horizontal an vertical Lines \n",
    "\n",
    "<div class=\"alert alert-block alert-info\" style=\"margin-top: 20px\">\n",
    "<li><a href=\"#ref0\">Helper functions </a></li>\n",
    "\n",
    "<li><a href=\"#ref1\"> Prepare Data </a></li>\n",
    "<li><a href=\"#ref2\">Convolutional Neral Network </a></li>\n",
    "<li><a href=\"#ref3\">Define Softmax , Criterion function, Optimizer and Train the  Model</a></li>\n",
    "<li><a href=\"#ref4\">Analyse Results</a></li>\n",
    "\n",
    "<br>\n",
    "<p></p>\n",
    "</div>\n",
    "\n",
    "<hr>\n"
   ]
  },
  {
   "cell_type": "markdown",
   "id": "3b4a86a4-8b43-45e9-bd2e-b005219fe4f4",
   "metadata": {},
   "source": [
    "<a id=\"ref0\"></a>\n",
    "<h2 align=center>Helper functions </h2>\n"
   ]
  },
  {
   "cell_type": "code",
   "execution_count": 1,
   "id": "49a133b2-9571-41f5-8f8e-2b8673f9b2a3",
   "metadata": {
    "ExecuteTime": {
     "end_time": "2023-01-02T06:56:27.960754Z",
     "start_time": "2023-01-02T06:56:25.744279Z"
    }
   },
   "outputs": [],
   "source": [
    "import torch \n",
    "import torch.nn as nn\n",
    "import torchvision.transforms as transforms\n",
    "import torchvision.datasets as dsets\n",
    "import matplotlib.pylab as plt\n",
    "import numpy as np\n",
    "import pandas as pd\n",
    "import torchvision.datasets as dsets"
   ]
  },
  {
   "cell_type": "code",
   "execution_count": 2,
   "id": "7a8630e4",
   "metadata": {
    "ExecuteTime": {
     "end_time": "2023-01-02T06:56:27.990767Z",
     "start_time": "2023-01-02T06:56:27.987117Z"
    }
   },
   "outputs": [
    {
     "data": {
      "text/plain": [
       "device(type='mps')"
      ]
     },
     "execution_count": 2,
     "metadata": {},
     "output_type": "execute_result"
    }
   ],
   "source": [
    "torch.device(\"mps\")"
   ]
  },
  {
   "cell_type": "code",
   "execution_count": 3,
   "id": "c5bd7abc-4afd-4a6d-bd7c-ac1cc592f45d",
   "metadata": {
    "ExecuteTime": {
     "end_time": "2023-01-02T06:56:28.965020Z",
     "start_time": "2023-01-02T06:56:28.951315Z"
    }
   },
   "outputs": [
    {
     "data": {
      "text/plain": [
       "<torch._C.Generator at 0x7fa8386ecb30>"
      ]
     },
     "execution_count": 3,
     "metadata": {},
     "output_type": "execute_result"
    }
   ],
   "source": [
    "torch.manual_seed(4)"
   ]
  },
  {
   "cell_type": "markdown",
   "id": "29316db1-fc4e-4bfa-a77b-96b07caa4acc",
   "metadata": {},
   "source": [
    "function to plot out the parameters of the Convolutional layers  \n"
   ]
  },
  {
   "cell_type": "code",
   "execution_count": 4,
   "id": "0bf76c4e-c54c-4f88-b181-21dc1f2792d9",
   "metadata": {
    "ExecuteTime": {
     "end_time": "2023-01-02T06:56:30.151609Z",
     "start_time": "2023-01-02T06:56:30.138725Z"
    }
   },
   "outputs": [],
   "source": [
    "def plot_channels(W):\n",
    "    #number of output channels \n",
    "    n_out=W.shape[0]\n",
    "    #number of input channels \n",
    "    n_in=W.shape[1]\n",
    "    w_min=W.min().item()\n",
    "    w_max=W.max().item()\n",
    "    fig, axes = plt.subplots(n_out,n_in)\n",
    "    fig.subplots_adjust(hspace = 0.1)\n",
    "    out_index=0\n",
    "    in_index=0\n",
    "    #plot outputs as rows inputs as columns \n",
    "    for ax in axes.flat:\n",
    "    \n",
    "        if in_index>n_in-1:\n",
    "            out_index=out_index+1\n",
    "            in_index=0\n",
    "              \n",
    "        ax.imshow(W[out_index,in_index,:,:], vmin=w_min, vmax=w_max, cmap='seismic')\n",
    "        ax.set_yticklabels([])\n",
    "        ax.set_xticklabels([])\n",
    "        in_index=in_index+1\n",
    "\n",
    "    plt.show()"
   ]
  },
  {
   "cell_type": "markdown",
   "id": "1a7d9b23-3062-4b6e-bc57-8a20766a816d",
   "metadata": {},
   "source": [
    "<code>show_data</code>: plot out data sample\n"
   ]
  },
  {
   "cell_type": "code",
   "execution_count": 5,
   "id": "88e4dace-79f8-4c18-ad3c-622215e4ef1b",
   "metadata": {
    "ExecuteTime": {
     "end_time": "2023-01-02T06:56:30.930667Z",
     "start_time": "2023-01-02T06:56:30.920294Z"
    }
   },
   "outputs": [],
   "source": [
    "def show_data(dataset,sample):\n",
    "\n",
    "    plt.imshow(dataset.x[sample,0,:,:].numpy(),cmap='gray')\n",
    "    plt.title('y='+str(dataset.y[sample].item()))\n",
    "    plt.show()"
   ]
  },
  {
   "cell_type": "markdown",
   "id": "202ab209-3482-482e-a445-e34ba7172206",
   "metadata": {},
   "source": [
    "create some toy data \n"
   ]
  },
  {
   "cell_type": "code",
   "execution_count": 6,
   "id": "52841ea5-18de-4bd2-b5fb-bcd76f6ca2f4",
   "metadata": {
    "ExecuteTime": {
     "end_time": "2023-01-02T06:56:31.682532Z",
     "start_time": "2023-01-02T06:56:31.660191Z"
    }
   },
   "outputs": [],
   "source": [
    "from torch.utils.data import Dataset, DataLoader\n",
    "class Data(Dataset):\n",
    "    def __init__(self,N_images=100,offset=0,p=0.9, train=False):\n",
    "        \"\"\"\n",
    "        p:portability that pixel is wight  \n",
    "        N_images:number of images \n",
    "        offset:set a random vertical and horizontal offset images by a sample should be less than 3 \n",
    "        \"\"\"\n",
    "        if train==True:\n",
    "            np.random.seed(1)  \n",
    "        \n",
    "        #make images multiple of 3 \n",
    "        N_images=2*(N_images//2)\n",
    "        images=np.zeros((N_images,1,11,11))\n",
    "        start1=3\n",
    "        start2=1\n",
    "        self.y=torch.zeros(N_images).type(torch.long)\n",
    "\n",
    "        for n in range(N_images):\n",
    "            if offset>0:\n",
    "        \n",
    "                low=int(np.random.randint(low=start1, high=start1+offset, size=1))\n",
    "                high=int(np.random.randint(low=start2, high=start2+offset, size=1))\n",
    "            else:\n",
    "                low=4\n",
    "                high=1\n",
    "        \n",
    "            if n<=N_images//2:\n",
    "                self.y[n]=0\n",
    "                images[n,0,high:high+9,low:low+3]= np.random.binomial(1, p, (9,3))\n",
    "            elif  n>N_images//2:\n",
    "                self.y[n]=1\n",
    "                images[n,0,low:low+3,high:high+9] = np.random.binomial(1, p, (3,9))\n",
    "           \n",
    "        \n",
    "        \n",
    "        self.x=torch.from_numpy(images).type(torch.FloatTensor)\n",
    "        self.len=self.x.shape[0]\n",
    "        del(images)\n",
    "        np.random.seed(0)\n",
    "    def __getitem__(self,index):      \n",
    "        return self.x[index],self.y[index]\n",
    "    def __len__(self):\n",
    "        return self.len"
   ]
  },
  {
   "cell_type": "markdown",
   "id": "6e25e502-bcbb-486b-a356-751ea87a474e",
   "metadata": {},
   "source": [
    "<code>plot_activation</code>: plot out the activations of the Convolutional layers  \n"
   ]
  },
  {
   "cell_type": "code",
   "execution_count": 7,
   "id": "36ea2424-4b5c-454b-86ee-f52265bd2272",
   "metadata": {
    "ExecuteTime": {
     "end_time": "2023-01-02T06:56:35.013888Z",
     "start_time": "2023-01-02T06:56:34.994627Z"
    }
   },
   "outputs": [],
   "source": [
    "def plot_activations(A,number_rows= 1,name=\"\"):\n",
    "    A=A[0,:,:,:].detach().numpy()\n",
    "    n_activations=A.shape[0]\n",
    "    \n",
    "    \n",
    "    print(n_activations)\n",
    "    A_min=A.min().item()\n",
    "    A_max=A.max().item()\n",
    "\n",
    "    if n_activations==1:\n",
    "\n",
    "        # Plot the image.\n",
    "        plt.imshow(A[0,:], vmin=A_min, vmax=A_max, cmap='seismic')\n",
    "\n",
    "    else:\n",
    "        fig, axes = plt.subplots(number_rows, n_activations//number_rows)\n",
    "        fig.subplots_adjust(hspace = 0.4)\n",
    "        for i,ax in enumerate(axes.flat):\n",
    "            if i< n_activations:\n",
    "                # Set the label for the sub-plot.\n",
    "                ax.set_xlabel( \"activation:{0}\".format(i+1))\n",
    "\n",
    "                # Plot the image.\n",
    "                ax.imshow(A[i,:], vmin=A_min, vmax=A_max, cmap='seismic')\n",
    "                ax.set_xticks([])\n",
    "                ax.set_yticks([])\n",
    "    plt.show()"
   ]
  },
  {
   "cell_type": "markdown",
   "id": "b3e47bff-2cb3-4b3f-ace8-791da6cec54b",
   "metadata": {},
   "source": [
    "\n",
    "Utility function for computing output of convolutions\n",
    "takes a tuple of (h,w) and returns a tuple of (h,w)\n"
   ]
  },
  {
   "cell_type": "code",
   "execution_count": 8,
   "id": "8b9487f6-8b04-4bd1-9407-8ecc9d9c81cf",
   "metadata": {
    "ExecuteTime": {
     "end_time": "2023-01-02T06:56:36.389977Z",
     "start_time": "2023-01-02T06:56:36.376087Z"
    }
   },
   "outputs": [],
   "source": [
    "\n",
    "def conv_output_shape(h_w, kernel_size=1, stride=1, pad=0, dilation=1):\n",
    "    #by Duane Nielsen\n",
    "    from math import floor\n",
    "    if type(kernel_size) is not tuple:\n",
    "        kernel_size = (kernel_size, kernel_size)\n",
    "    h = floor( ((h_w[0] + (2 * pad) - ( dilation * (kernel_size[0] - 1) ) - 1 )/ stride) + 1)\n",
    "    w = floor( ((h_w[1] + (2 * pad) - ( dilation * (kernel_size[1] - 1) ) - 1 )/ stride) + 1)\n",
    "    return h, w"
   ]
  },
  {
   "cell_type": "markdown",
   "id": "caef31fe-225b-4a06-b925-d1da6e0618de",
   "metadata": {},
   "source": [
    "<a id=\"ref1\"></a>\n",
    "<h2 align=center>Prepare Data </h2> \n"
   ]
  },
  {
   "cell_type": "markdown",
   "id": "ca99bfc6-9ab0-45cf-9676-14e6be84670e",
   "metadata": {},
   "source": [
    "Load the training dataset with 10000 samples \n"
   ]
  },
  {
   "cell_type": "code",
   "execution_count": 8,
   "id": "bf878100-3aa8-4851-9253-a4550344966c",
   "metadata": {
    "ExecuteTime": {
     "end_time": "2023-01-02T05:59:00.055316Z",
     "start_time": "2023-01-02T05:58:59.922686Z"
    }
   },
   "outputs": [],
   "source": [
    "N_images=10000\n",
    "train_dataset=Data(N_images=N_images)"
   ]
  },
  {
   "cell_type": "markdown",
   "id": "066c9ac0-3776-40c2-a915-058761c343b5",
   "metadata": {},
   "source": [
    "Load the testing dataset\n"
   ]
  },
  {
   "cell_type": "code",
   "execution_count": 9,
   "id": "2804e04a-f4c6-4b33-a2ef-02831adcb5fc",
   "metadata": {
    "ExecuteTime": {
     "end_time": "2023-01-02T05:59:00.584458Z",
     "start_time": "2023-01-02T05:59:00.552298Z"
    }
   },
   "outputs": [
    {
     "data": {
      "text/plain": [
       "<__main__.Data at 0x7fb1f2446a30>"
      ]
     },
     "execution_count": 9,
     "metadata": {},
     "output_type": "execute_result"
    }
   ],
   "source": [
    "validation_dataset=Data(N_images=1000,train=False)\n",
    "validation_dataset"
   ]
  },
  {
   "cell_type": "markdown",
   "id": "e4f76952-8ee3-431c-a46b-8d91023ce603",
   "metadata": {},
   "source": [
    "we can see the data type is long \n"
   ]
  },
  {
   "cell_type": "markdown",
   "id": "8e12dae0-ae35-41c8-8cfe-a7f68cf0b448",
   "metadata": {},
   "source": [
    "### Data Visualization \n"
   ]
  },
  {
   "cell_type": "markdown",
   "id": "9483540f-938b-436c-8c9e-008ef815f6af",
   "metadata": {},
   "source": [
    "Each element in the rectangular  tensor corresponds to a number representing a pixel intensity  as demonstrated by  the following image.\n"
   ]
  },
  {
   "cell_type": "markdown",
   "id": "c7270411-02f2-4d0b-99de-e39f8b4ace0f",
   "metadata": {},
   "source": [
    "We can print out the third label \n"
   ]
  },
  {
   "cell_type": "code",
   "execution_count": 10,
   "id": "bebaac1c-641d-4a3b-89dd-b85f93af008b",
   "metadata": {
    "ExecuteTime": {
     "end_time": "2023-01-02T05:59:02.451557Z",
     "start_time": "2023-01-02T05:59:02.308102Z"
    }
   },
   "outputs": [
    {
     "data": {
      "image/png": "[encoded data removed]",
      "text/plain": [
       "<Figure size 432x288 with 1 Axes>"
      ]
     },
     "metadata": {
      "needs_background": "light"
     },
     "output_type": "display_data"
    }
   ],
   "source": [
    "show_data(train_dataset,0)"
   ]
  },
  {
   "cell_type": "code",
   "execution_count": 11,
   "id": "2c26564d-fa40-4946-a6c4-7000fb3863b8",
   "metadata": {
    "ExecuteTime": {
     "end_time": "2023-01-02T05:59:03.034269Z",
     "start_time": "2023-01-02T05:59:02.948001Z"
    }
   },
   "outputs": [
    {
     "data": {
      "image/png": "[encoded data removed]",
      "text/plain": [
       "<Figure size 432x288 with 1 Axes>"
      ]
     },
     "metadata": {
      "needs_background": "light"
     },
     "output_type": "display_data"
    }
   ],
   "source": [
    "show_data(train_dataset,N_images//2+2)"
   ]
  },
  {
   "cell_type": "markdown",
   "id": "1d84c987-f3f8-482d-a365-725bb185af4d",
   "metadata": {},
   "source": [
    "we can plot the 3rd  sample \n"
   ]
  },
  {
   "cell_type": "markdown",
   "id": "a3f33ada-7ea2-48c7-91e1-99a83293251a",
   "metadata": {},
   "source": [
    "<a id=\"ref3\"></a>\n",
    "### Build a Convolutional Neral Network Class \n"
   ]
  },
  {
   "cell_type": "markdown",
   "id": "d48caaab-0877-485e-8ae8-defd3b69ed7c",
   "metadata": {},
   "source": [
    "The input image is 11 x11, the following will change the size of the activations:\n",
    "<ul>\n",
    "<il>convolutional layer</il> \n",
    "</ul>\n",
    "<ul>\n",
    "<il>max pooling layer</il> \n",
    "</ul>\n",
    "<ul>\n",
    "<il>convolutional layer </il>\n",
    "</ul>\n",
    "<ul>\n",
    "<il>max pooling layer </il>\n",
    "</ul>\n",
    "\n",
    "with the following parameters <code>kernel_size</code>, <code>stride</code> and <code> pad</code>.\n",
    "We use the following  lines of code to change the image before we get tot he fully connected layer \n"
   ]
  },
  {
   "cell_type": "code",
   "execution_count": 12,
   "id": "db7f2d52-75c6-45bc-9a66-b9e947227970",
   "metadata": {
    "ExecuteTime": {
     "end_time": "2023-01-02T05:59:04.458286Z",
     "start_time": "2023-01-02T05:59:04.443394Z"
    }
   },
   "outputs": [
    {
     "name": "stdout",
     "output_type": "stream",
     "text": [
      "(10, 10)\n",
      "(9, 9)\n",
      "(8, 8)\n",
      "(7, 7)\n"
     ]
    }
   ],
   "source": [
    "# Below code is important to get the right input size for the subsequent layer\n",
    "\n",
    "out=conv_output_shape((11,11), kernel_size=2, stride=1, pad=0, dilation=1)\n",
    "print(out)\n",
    "out1=conv_output_shape(out, kernel_size=2, stride=1, pad=0, dilation=1)\n",
    "print(out1)\n",
    "out2=conv_output_shape(out1, kernel_size=2, stride=1, pad=0, dilation=1)\n",
    "print(out2)\n",
    "\n",
    "out3=conv_output_shape(out2, kernel_size=2, stride=1, pad=0, dilation=1)\n",
    "print(out3)"
   ]
  },
  {
   "cell_type": "markdown",
   "id": "ee89cbec-7617-4307-9e58-b0f50fa99318",
   "metadata": {},
   "source": [
    "Build a Convolutional Network class with two Convolutional layers and one fully connected layer. Pre-determine the size of the final output matrix. The parameters in the constructor are the number of output channels for the first and second layer.\n"
   ]
  },
  {
   "cell_type": "code",
   "execution_count": 13,
   "id": "46e9692d-45a6-4022-95d0-2245602ef30a",
   "metadata": {
    "ExecuteTime": {
     "end_time": "2023-01-02T05:59:05.340528Z",
     "start_time": "2023-01-02T05:59:05.323280Z"
    }
   },
   "outputs": [],
   "source": [
    "class CNN(nn.Module):\n",
    "    def __init__(self,out_1=2,out_2=1):\n",
    "        \n",
    "        super(CNN,self).__init__()\n",
    "        #first Convolutional layers \n",
    "        self.cnn1=nn.Conv2d(in_channels=1,out_channels=out_1,kernel_size=2,padding=0)\n",
    "        self.maxpool1=nn.MaxPool2d(kernel_size=2 ,stride=1)\n",
    "\n",
    "        #second Convolutional layers\n",
    "        self.cnn2=nn.Conv2d(in_channels=out_1,out_channels=out_2,kernel_size=2,stride=1,padding=0)\n",
    "        self.maxpool2=nn.MaxPool2d(kernel_size=2 ,stride=1)\n",
    "        #max pooling \n",
    "\n",
    "        #fully connected layer \n",
    "        self.fc1=nn.Linear(out_2*7*7,2)\n",
    "        \n",
    "    def forward(self,x):\n",
    "        #first Convolutional layers\n",
    "        x=self.cnn1(x)\n",
    "        #activation function \n",
    "        x=torch.relu(x)\n",
    "        #max pooling \n",
    "        x=self.maxpool1(x)\n",
    "        #first Convolutional layers\n",
    "        x=self.cnn2(x)\n",
    "        #activation function\n",
    "        x=torch.relu(x)\n",
    "        #max pooling\n",
    "        x=self.maxpool2(x)\n",
    "        #flatten output \n",
    "        x=x.view(x.size(0),-1)\n",
    "        #fully connected layer\n",
    "        x=self.fc1(x)\n",
    "        return x\n",
    "    \n",
    "    def activations(self,x):\n",
    "        #outputs activation this is not necessary just for fun \n",
    "        z1=self.cnn1(x)\n",
    "        a1=torch.relu(z1)\n",
    "        out=self.maxpool1(a1)\n",
    "        \n",
    "        z2=self.cnn2(out)\n",
    "        a2=torch.relu(z2)\n",
    "        out=self.maxpool2(a2)\n",
    "        out=out.view(out.size(0),-1)\n",
    "        return z1,a1,z2,a2,out        "
   ]
  },
  {
   "cell_type": "markdown",
   "id": "3157611e-8685-4ebb-8b85-3df57bb4ad45",
   "metadata": {},
   "source": [
    "<a id=\"ref3\"></a>\n",
    "<h2> Define the Convolutional Neral Network Classifier , Criterion function, Optimizer and Train the  Model  </h2> \n"
   ]
  },
  {
   "cell_type": "code",
   "execution_count": 14,
   "id": "bb80d1c0-2026-481e-92ed-b0933dfb5269",
   "metadata": {
    "ExecuteTime": {
     "end_time": "2023-01-02T05:59:06.576196Z",
     "start_time": "2023-01-02T05:59:06.565919Z"
    }
   },
   "outputs": [],
   "source": [
    "model=CNN(2,1)"
   ]
  },
  {
   "cell_type": "markdown",
   "id": "31f0d39c-44af-4e5f-9003-1c45d6a543d6",
   "metadata": {},
   "source": [
    "we can see the model parameters with the object \n"
   ]
  },
  {
   "cell_type": "code",
   "execution_count": 15,
   "id": "01d47bf0-555a-4e71-a0b7-02ffe3f64e33",
   "metadata": {
    "ExecuteTime": {
     "end_time": "2023-01-02T05:59:07.274480Z",
     "start_time": "2023-01-02T05:59:07.262934Z"
    }
   },
   "outputs": [
    {
     "data": {
      "text/plain": [
       "CNN(\n",
       "  (cnn1): Conv2d(1, 2, kernel_size=(2, 2), stride=(1, 1))\n",
       "  (maxpool1): MaxPool2d(kernel_size=2, stride=1, padding=0, dilation=1, ceil_mode=False)\n",
       "  (cnn2): Conv2d(2, 1, kernel_size=(2, 2), stride=(1, 1))\n",
       "  (maxpool2): MaxPool2d(kernel_size=2, stride=1, padding=0, dilation=1, ceil_mode=False)\n",
       "  (fc1): Linear(in_features=49, out_features=2, bias=True)\n",
       ")"
      ]
     },
     "execution_count": 15,
     "metadata": {},
     "output_type": "execute_result"
    }
   ],
   "source": [
    "model"
   ]
  },
  {
   "cell_type": "markdown",
   "id": "763b2652-060d-4198-8fab-4e65d2bd838f",
   "metadata": {},
   "source": [
    "Plot the model parameters for the kernels before training the kernels. The kernels are initialized randomly.\n"
   ]
  },
  {
   "cell_type": "markdown",
   "id": "174ee8ad-4f00-4812-87cf-4cd85661d5b9",
   "metadata": {},
   "source": [
    "**Define Model Parameters:**"
   ]
  },
  {
   "cell_type": "code",
   "execution_count": 16,
   "id": "8b348d67-ccd5-479a-a29e-7783d161fb3d",
   "metadata": {
    "ExecuteTime": {
     "end_time": "2023-01-02T05:59:08.424617Z",
     "start_time": "2023-01-02T05:59:08.407595Z"
    }
   },
   "outputs": [],
   "source": [
    "criterion=nn.CrossEntropyLoss()\n",
    "learning_rate=0.001\n",
    "optimizer = torch.optim.Adam(model.parameters(), lr=learning_rate)\n",
    "\n",
    "#Train-validation split\n",
    "train_loader=torch.utils.data.DataLoader(dataset=train_dataset,batch_size=10)\n",
    "validation_loader=torch.utils.data.DataLoader(dataset=validation_dataset,batch_size=20)"
   ]
  },
  {
   "cell_type": "markdown",
   "id": "e756e750-b6d6-4ebe-87cf-9e7f6b07a24c",
   "metadata": {},
   "source": [
    "Train the model and determine validation accuracy technically test accuracy **(This may take a long time)**\n"
   ]
  },
  {
   "cell_type": "code",
   "execution_count": 17,
   "id": "f1c3d898-aa49-47c7-8576-e757a34f0149",
   "metadata": {
    "ExecuteTime": {
     "end_time": "2023-01-02T05:59:32.579023Z",
     "start_time": "2023-01-02T05:59:09.383149Z"
    }
   },
   "outputs": [
    {
     "name": "stdout",
     "output_type": "stream",
     "text": [
      "Epoch Number : 0\n",
      "Current loss 194.01092150273325\n",
      "Current Validation Accuracy 49.9%\n",
      "=====================================\n",
      "Epoch Number : 1\n",
      "Current loss 163.00435623712838\n",
      "Current Validation Accuracy 65.2%\n",
      "=====================================\n",
      "Epoch Number : 2\n",
      "Current loss 24.060257357661612\n",
      "Current Validation Accuracy 100.0%\n",
      "=====================================\n",
      "Epoch Number : 3\n",
      "Current loss 2.641653795930324\n",
      "Current Validation Accuracy 100.0%\n",
      "=====================================\n",
      "Epoch Number : 4\n",
      "Current loss 0.6118330860772403\n",
      "Current Validation Accuracy 100.0%\n",
      "=====================================\n",
      "Epoch Number : 5\n",
      "Current loss 0.2277397466241382\n",
      "Current Validation Accuracy 100.0%\n",
      "=====================================\n",
      "Epoch Number : 6\n",
      "Current loss 0.10231835322701954\n",
      "Current Validation Accuracy 100.0%\n",
      "=====================================\n",
      "Epoch Number : 7\n",
      "Current loss 0.05033249717234867\n",
      "Current Validation Accuracy 100.0%\n",
      "=====================================\n",
      "Epoch Number : 8\n",
      "Current loss 0.026030436757537245\n",
      "Current Validation Accuracy 100.0%\n",
      "=====================================\n",
      "Epoch Number : 9\n",
      "Current loss 0.01387775759349097\n",
      "Current Validation Accuracy 100.0%\n",
      "=====================================\n"
     ]
    }
   ],
   "source": [
    "n_epochs=10\n",
    "cost_list=[]\n",
    "accuracy_list=[]\n",
    "N_test=len(validation_dataset)\n",
    "cost=0\n",
    "#n_epochs\n",
    "for epoch in range(n_epochs):\n",
    "    print(f\"Epoch Number : {epoch}\")\n",
    "    cost=0    \n",
    "    for x, y in train_loader:\n",
    "      \n",
    "\n",
    "        #clear gradient \n",
    "        optimizer.zero_grad()\n",
    "        #make a prediction \n",
    "        z=model(x)\n",
    "        # calculate loss \n",
    "        loss=criterion(z,y)\n",
    "        # calculate gradients of parameters \n",
    "        loss.backward()\n",
    "        # update parameters \n",
    "        optimizer.step()\n",
    "        cost+=loss.item()\n",
    "        \n",
    "    print(f\"Current loss {cost}\")\n",
    "    cost_list.append(cost)\n",
    "        \n",
    "        \n",
    "    correct=0\n",
    "    #perform a prediction on the validation  data  \n",
    "    for x_test, y_test in validation_loader:\n",
    "\n",
    "        z=model(x_test)\n",
    "        _,yhat=torch.max(z.data,1)\n",
    "\n",
    "        correct+=(yhat==y_test).sum().item()\n",
    "        \n",
    "\n",
    "    accuracy=correct/N_test\n",
    "    print(f\"Current Validation Accuracy {accuracy *100}%\")\n",
    "    print(\"=====================================\")\n",
    "    accuracy_list.append(accuracy)"
   ]
  },
  {
   "cell_type": "markdown",
   "id": "60b249cc-9b1c-477f-96b1-dc25f7b380fc",
   "metadata": {},
   "source": [
    "#### <a id=\"ref3\"></a>\n",
    "<h2 align=center>Analyse Results</h2> \n"
   ]
  },
  {
   "cell_type": "markdown",
   "id": "303aa89f-1725-40a7-bced-bfc05528b0e2",
   "metadata": {},
   "source": [
    "Plot the loss and accuracy on the validation data:\n"
   ]
  },
  {
   "cell_type": "code",
   "execution_count": 18,
   "id": "600ed645-a5dc-443b-bdd0-4788f8f7f037",
   "metadata": {
    "ExecuteTime": {
     "end_time": "2023-01-02T02:17:02.178001Z",
     "start_time": "2023-01-02T02:17:02.044367Z"
    }
   },
   "outputs": [
    {
     "data": {
      "image/png": "[encoded data removed]",
      "text/plain": [
       "<Figure size 432x288 with 2 Axes>"
      ]
     },
     "metadata": {
      "needs_background": "light"
     },
     "output_type": "display_data"
    }
   ],
   "source": [
    "fig, ax1 = plt.subplots()\n",
    "color = 'tab:red'\n",
    "ax1.plot(cost_list,color=color)\n",
    "ax1.set_xlabel('epoch',color=color)\n",
    "ax1.set_ylabel('total loss',color=color)\n",
    "ax1.tick_params(axis='y', color=color)\n",
    "    \n",
    "ax2 = ax1.twinx()  \n",
    "color = 'tab:blue'\n",
    "ax2.set_ylabel('accuracy', color=color)  \n",
    "ax2.plot( accuracy_list, color=color)\n",
    "ax2.tick_params(axis='y', labelcolor=color)\n",
    "fig.tight_layout()"
   ]
  },
  {
   "cell_type": "markdown",
   "id": "43ab50f1",
   "metadata": {},
   "source": [
    "# CNN on MNIST data"
   ]
  },
  {
   "cell_type": "code",
   "execution_count": 70,
   "id": "2d12b395",
   "metadata": {
    "ExecuteTime": {
     "end_time": "2023-01-02T07:17:13.768138Z",
     "start_time": "2023-01-02T07:17:13.749959Z"
    }
   },
   "outputs": [],
   "source": [
    "# Define the function for plotting the parameters\n",
    "\n",
    "def plot_parameters(W, number_rows=1, name=\"\", i=0):\n",
    "    W = W.data[:, i, :, :]\n",
    "    n_filters = W.shape[0]\n",
    "    w_min = W.min().item()\n",
    "    w_max = W.max().item()\n",
    "    fig, axes = plt.subplots(number_rows, n_filters // number_rows)\n",
    "    fig.subplots_adjust(hspace=0.4)\n",
    "\n",
    "    for i, ax in enumerate(axes.flat):\n",
    "        if i < n_filters:\n",
    "            # Set the label for the sub-plot.\n",
    "            ax.set_xlabel(\"kernel:{0}\".format(i + 1))\n",
    "\n",
    "            # Plot the image.\n",
    "            ax.imshow(W[i, :], vmin=w_min, vmax=w_max, cmap='seismic')\n",
    "            ax.set_xticks([])\n",
    "            ax.set_yticks([])\n",
    "    plt.suptitle(name, fontsize=10)    \n",
    "    plt.show()\n",
    "    \n",
    "def show_data(data_sample):\n",
    "    plt.imshow(data_sample[0].numpy().reshape(IMAGE_SIZE, IMAGE_SIZE), cmap='gray')\n",
    "    plt.title('y = '+ str(data_sample[1]))"
   ]
  },
  {
   "cell_type": "markdown",
   "id": "7b4d15ed",
   "metadata": {},
   "source": [
    "We create a transform to resize the image and convert it to tensor"
   ]
  },
  {
   "cell_type": "code",
   "execution_count": 71,
   "id": "17a7b849",
   "metadata": {
    "ExecuteTime": {
     "end_time": "2023-01-02T07:17:14.133428Z",
     "start_time": "2023-01-02T07:17:14.102534Z"
    }
   },
   "outputs": [],
   "source": [
    "IMAGE_SIZE = 16\n",
    "composed = transforms.Compose([transforms.Resize((IMAGE_SIZE, IMAGE_SIZE)), transforms.ToTensor()])\n",
    "\n",
    "\n",
    "# Load the dataset and apply the transform\n",
    "train_dataset = dsets.MNIST(root='./data', train=True, download=True, transform=composed, )\n",
    "\n",
    "# Make the validating \n",
    "validation_dataset = dsets.MNIST(root='./data', train=False, download=True, transform=composed)"
   ]
  },
  {
   "cell_type": "code",
   "execution_count": 72,
   "id": "1e8711d4",
   "metadata": {
    "ExecuteTime": {
     "end_time": "2023-01-02T07:17:14.263503Z",
     "start_time": "2023-01-02T07:17:14.259985Z"
    }
   },
   "outputs": [
    {
     "data": {
      "text/plain": [
       "int"
      ]
     },
     "execution_count": 72,
     "metadata": {},
     "output_type": "execute_result"
    }
   ],
   "source": [
    "# Show the data type for each element in dataset\n",
    "\n",
    "type(train_dataset[0][1])"
   ]
  },
  {
   "cell_type": "markdown",
   "id": "087e0ba2",
   "metadata": {},
   "source": [
    "<img src=\"https://s3-api.us-geo.objectstorage.softlayer.net/cf-courses-data/CognitiveClass/DL0110EN/notebook_images%20/chapter%206/6.2.1imagenet.png\" width=\"550\" alt=\"MNIST data image\">\n"
   ]
  },
  {
   "cell_type": "code",
   "execution_count": 73,
   "id": "180f47e5",
   "metadata": {
    "ExecuteTime": {
     "end_time": "2023-01-02T07:17:14.765861Z",
     "start_time": "2023-01-02T07:17:14.681010Z"
    }
   },
   "outputs": [
    {
     "data": {
      "image/png": "[encoded data removed]",
      "text/plain": [
       "<Figure size 432x288 with 1 Axes>"
      ]
     },
     "metadata": {
      "needs_background": "light"
     },
     "output_type": "display_data"
    }
   ],
   "source": [
    "# The image for the fourth data element\n",
    "show_data(train_dataset[3])"
   ]
  },
  {
   "cell_type": "code",
   "execution_count": 74,
   "id": "32ec6968",
   "metadata": {
    "ExecuteTime": {
     "end_time": "2023-01-02T07:17:15.064164Z",
     "start_time": "2023-01-02T07:17:15.043459Z"
    }
   },
   "outputs": [],
   "source": [
    "class CNN(nn.Module):\n",
    "    \n",
    "    # Contructor\n",
    "    def __init__(self, out_1=16, out_2=32):\n",
    "        super(CNN, self).__init__()\n",
    "        self.cnn1 = nn.Conv2d(in_channels=1, out_channels=out_1, kernel_size=5, padding=2,)\n",
    "        self.maxpool1=nn.MaxPool2d(kernel_size=2)\n",
    "\n",
    "        self.cnn2 = nn.Conv2d(in_channels=out_1, out_channels=out_2, kernel_size=5, stride=1, padding=2)\n",
    "        self.maxpool2=nn.MaxPool2d(kernel_size=2)\n",
    "        self.fc1 = nn.Linear(out_2 * 4 * 4, 10)\n",
    "    \n",
    "    # Prediction\n",
    "    def forward(self, x):\n",
    "        x = self.cnn1(x)\n",
    "        x = torch.relu(x)\n",
    "        x = self.maxpool1(x)\n",
    "        x = self.cnn2(x)\n",
    "        x = torch.relu(x)\n",
    "        x = self.maxpool2(x)\n",
    "        x = x.view(x.size(0), -1)\n",
    "        x = self.fc1(x)\n",
    "        return x\n",
    "    \n",
    "    # Outputs in each steps\n",
    "    def activations(self, x):\n",
    "        #outputs activation this is not necessary\n",
    "        z1 = self.cnn1(x)\n",
    "        a1 = torch.relu(z1)\n",
    "        out = self.maxpool1(a1)\n",
    "        \n",
    "        z2 = self.cnn2(out)\n",
    "        a2 = torch.relu(z2)\n",
    "        out1 = self.maxpool2(a2)\n",
    "        out = out.view(out.size(0),-1)\n",
    "        return z1, a1, z2, a2, out1,out"
   ]
  },
  {
   "cell_type": "markdown",
   "id": "8785104f",
   "metadata": {},
   "source": [
    "This is how we get the 4x4 image size after cnn1, maxpool1, cnn2 and maxpool2:\n",
    "\n",
    "   1. 'out_2' is a given parameter when  the cnn2 was defined, it is the output of cnn2 equal to 32\n",
    "\n",
    "   2. 4x4 is the result of the 'image size' after cnn1, maxpool1, cnn2 and maxpool2:\n",
    "\n",
    "2.a. Input size is 16x16\n",
    "\n",
    "2.b. after cnn1, size per channel (total of 16 channels) is (16 + 2*2 -5)/1 + 1 = 16x16\n",
    "\n",
    "2.c after maxpool 1, size per channel (still total of 16 channels) is (16 + 2*0 - 2)/2 + 1 (stride size is equal to kernel size of 2) = 8x8 \n",
    "\n",
    "2.c after cnn2, size per channel (now the total channel is 32) is (8+ 2*2 -5)/1 + 1 =8x8\n",
    "\n",
    "2.d. after maxpool2, size per channel (32 channels passed from cnn2) is (8  + 2*0 -2)/2 + 1= 4x4"
   ]
  },
  {
   "cell_type": "code",
   "execution_count": 75,
   "id": "9e9cd6c5",
   "metadata": {
    "ExecuteTime": {
     "end_time": "2023-01-02T07:17:15.696884Z",
     "start_time": "2023-01-02T07:17:15.686517Z"
    }
   },
   "outputs": [],
   "source": [
    "# Create the model object using CNN class\n",
    "\n",
    "model = CNN(out_1=16, out_2=32)\n",
    "#device = torch.device('cuda:0')"
   ]
  },
  {
   "cell_type": "code",
   "execution_count": 76,
   "id": "f744d940",
   "metadata": {
    "ExecuteTime": {
     "end_time": "2023-01-02T07:17:17.076091Z",
     "start_time": "2023-01-02T07:17:16.308576Z"
    }
   },
   "outputs": [
    {
     "data": {
      "image/png": "[encoded data removed]",
      "text/plain": [
       "<Figure size 432x288 with 16 Axes>"
      ]
     },
     "metadata": {},
     "output_type": "display_data"
    },
    {
     "data": {
      "image/png": "[encoded data removed]",
      "text/plain": [
       "<Figure size 432x288 with 32 Axes>"
      ]
     },
     "metadata": {},
     "output_type": "display_data"
    }
   ],
   "source": [
    "# Plot the parameters\n",
    "\n",
    "plot_parameters(model.state_dict()['cnn1.weight'], number_rows=4, name=\"1st layer kernels before training \")\n",
    "plot_parameters(model.state_dict()['cnn2.weight'], number_rows=4, name='2nd layer kernels before training' )"
   ]
  },
  {
   "cell_type": "markdown",
   "id": "a83f4967",
   "metadata": {},
   "source": [
    "Define the loss function, the optimizer and the dataset loader "
   ]
  },
  {
   "cell_type": "code",
   "execution_count": 77,
   "id": "42e952d4",
   "metadata": {
    "ExecuteTime": {
     "end_time": "2023-01-02T07:17:17.522162Z",
     "start_time": "2023-01-02T07:17:17.503031Z"
    }
   },
   "outputs": [],
   "source": [
    "criterion = nn.CrossEntropyLoss()\n",
    "learning_rate = 0.01\n",
    "optimizer = torch.optim.SGD(model.parameters(), lr = learning_rate)\n",
    "\n",
    "# Define batch for train & validation data\n",
    "train_loader = torch.utils.data.DataLoader(dataset=train_dataset, batch_size=100)\n",
    "validation_loader = torch.utils.data.DataLoader(dataset=validation_dataset, batch_size=5000)"
   ]
  },
  {
   "cell_type": "code",
   "execution_count": 78,
   "id": "13eaadd1",
   "metadata": {
    "ExecuteTime": {
     "end_time": "2023-01-02T07:17:23.599806Z",
     "start_time": "2023-01-02T07:17:23.591135Z"
    }
   },
   "outputs": [],
   "source": [
    "mps_device = torch.device(\"mps\")"
   ]
  },
  {
   "cell_type": "code",
   "execution_count": 79,
   "id": "da382372",
   "metadata": {
    "ExecuteTime": {
     "end_time": "2023-01-02T07:17:24.123801Z",
     "start_time": "2023-01-02T07:17:24.108946Z"
    }
   },
   "outputs": [],
   "source": [
    "model = model.to(mps_device)"
   ]
  },
  {
   "cell_type": "code",
   "execution_count": 80,
   "id": "27af1015",
   "metadata": {
    "ExecuteTime": {
     "end_time": "2023-01-02T07:17:24.864889Z",
     "start_time": "2023-01-02T07:17:24.852293Z"
    }
   },
   "outputs": [
    {
     "data": {
      "text/plain": [
       "CNN(\n",
       "  (cnn1): Conv2d(1, 16, kernel_size=(5, 5), stride=(1, 1), padding=(2, 2))\n",
       "  (maxpool1): MaxPool2d(kernel_size=2, stride=2, padding=0, dilation=1, ceil_mode=False)\n",
       "  (cnn2): Conv2d(16, 32, kernel_size=(5, 5), stride=(1, 1), padding=(2, 2))\n",
       "  (maxpool2): MaxPool2d(kernel_size=2, stride=2, padding=0, dilation=1, ceil_mode=False)\n",
       "  (fc1): Linear(in_features=512, out_features=10, bias=True)\n",
       ")"
      ]
     },
     "execution_count": 80,
     "metadata": {},
     "output_type": "execute_result"
    }
   ],
   "source": [
    "model"
   ]
  },
  {
   "cell_type": "code",
   "execution_count": 81,
   "id": "07334e70",
   "metadata": {
    "ExecuteTime": {
     "end_time": "2023-01-02T07:17:27.357057Z",
     "start_time": "2023-01-02T07:17:27.338937Z"
    }
   },
   "outputs": [],
   "source": [
    "# Train the model\n",
    "\n",
    "n_epochs = 10\n",
    "cost_list = []\n",
    "accuracy_list = []\n",
    "N_test = len(validation_dataset)\n",
    "COST = 0\n",
    "model = model.to(mps_device)\n",
    "def train_model(n_epochs):\n",
    "    for epoch in range(n_epochs):\n",
    "        print(f\"Epoch Number : {epoch}\")\n",
    "        COST = 0\n",
    "        \n",
    "        for x,y in train_loader:\n",
    "            optimizer.zero_grad()\n",
    "            x = x.to(mps_device)\n",
    "            y = y.to(mps_device)\n",
    "            z = model(x)\n",
    "            loss = criterion(z,y)\n",
    "            loss.backward()\n",
    "            optimizer.step()\n",
    "            COST+=loss.data\n",
    "            \n",
    "        print(f\"Current loss {COST}\")\n",
    "        cost_list.append(COST)\n",
    "        correct = 0\n",
    "        \n",
    "        for x_test, y_test in validation_loader:\n",
    "            x_test = x_test.to(mps_device)\n",
    "            y_test = y_test.to(mps_device)\n",
    "            z = model(x_test)\n",
    "            _, yhat = torch.max(z.data,1)\n",
    "            correct += (yhat==y_test).sum().item()\n",
    "            \n",
    "        accuracy = correct / N_test\n",
    "        accuracy_list.append(accuracy)      \n",
    "        print(f\"Current Validation Accuracy {accuracy *100}%\")\n",
    "        print(\"=====================================\")"
   ]
  },
  {
   "cell_type": "code",
   "execution_count": 82,
   "id": "79d4dede",
   "metadata": {
    "ExecuteTime": {
     "end_time": "2023-01-02T07:18:46.322361Z",
     "start_time": "2023-01-02T07:17:28.747116Z"
    },
    "scrolled": true
   },
   "outputs": [
    {
     "name": "stdout",
     "output_type": "stream",
     "text": [
      "Epoch Number : 0\n",
      "Current loss 1134.9805908203125\n",
      "Current Validation Accuracy 79.92%\n",
      "=====================================\n",
      "Epoch Number : 1\n",
      "Current loss 323.17681884765625\n",
      "Current Validation Accuracy 88.44%\n",
      "=====================================\n",
      "Epoch Number : 2\n",
      "Current loss 204.3749237060547\n",
      "Current Validation Accuracy 90.94%\n",
      "=====================================\n",
      "Epoch Number : 3\n",
      "Current loss 161.38284301757812\n",
      "Current Validation Accuracy 92.60000000000001%\n",
      "=====================================\n",
      "Epoch Number : 4\n",
      "Current loss 135.4658966064453\n",
      "Current Validation Accuracy 93.5%\n",
      "=====================================\n",
      "Epoch Number : 5\n",
      "Current loss 117.83088684082031\n",
      "Current Validation Accuracy 94.37%\n",
      "=====================================\n",
      "Epoch Number : 6\n",
      "Current loss 105.06626892089844\n",
      "Current Validation Accuracy 94.92%\n",
      "=====================================\n",
      "Epoch Number : 7\n",
      "Current loss 95.42521667480469\n",
      "Current Validation Accuracy 95.16%\n",
      "=====================================\n",
      "Epoch Number : 8\n",
      "Current loss 87.85648345947266\n",
      "Current Validation Accuracy 95.55%\n",
      "=====================================\n",
      "Epoch Number : 9\n",
      "Current loss 81.7166748046875\n",
      "Current Validation Accuracy 95.81%\n",
      "=====================================\n"
     ]
    }
   ],
   "source": [
    "train_model(n_epochs)"
   ]
  },
  {
   "cell_type": "code",
   "execution_count": 90,
   "id": "067717cc",
   "metadata": {
    "ExecuteTime": {
     "end_time": "2023-01-02T07:22:57.021005Z",
     "start_time": "2023-01-02T07:22:56.776482Z"
    }
   },
   "outputs": [
    {
     "data": {
      "image/png": "[encoded data removed]",
      "text/plain": [
       "<Figure size 432x288 with 2 Axes>"
      ]
     },
     "metadata": {
      "needs_background": "light"
     },
     "output_type": "display_data"
    }
   ],
   "source": [
    "# Plot the loss and accuracy\n",
    "\n",
    "fig, ax1 = plt.subplots()\n",
    "color = 'tab:red'\n",
    "\n",
    "cost_list2 = list(map(lambda x: x.to(torch.device('cpu')), cost_list))\n",
    "ax1.plot(cost_list2, color=color)\n",
    "ax1.set_xlabel('epoch', color=color)\n",
    "ax1.set_ylabel('Cost', color=color)\n",
    "ax1.tick_params(axis='y', color=color)\n",
    "    \n",
    "ax2 = ax1.twinx()  \n",
    "color = 'tab:blue'\n",
    "ax2.set_ylabel('accuracy', color=color) \n",
    "ax2.set_xlabel('epoch', color=color)\n",
    "ax2.plot( accuracy_list, color=color)\n",
    "ax2.tick_params(axis='y', color=color)\n",
    "fig.tight_layout()"
   ]
  }
 ],
 "metadata": {
  "kernelspec": {
   "display_name": "Python 3 (ipykernel)",
   "language": "python",
   "name": "python3"
  },
  "language_info": {
   "codemirror_mode": {
    "name": "ipython",
    "version": 3
   },
   "file_extension": ".py",
   "mimetype": "text/x-python",
   "name": "python",
   "nbconvert_exporter": "python",
   "pygments_lexer": "ipython3",
   "version": "3.9.12"
  },
  "varInspector": {
   "cols": {
    "lenName": 16,
    "lenType": 16,
    "lenVar": 40
   },
   "kernels_config": {
    "python": {
     "delete_cmd_postfix": "",
     "delete_cmd_prefix": "del ",
     "library": "var_list.py",
     "varRefreshCmd": "print(var_dic_list())"
    },
    "r": {
     "delete_cmd_postfix": ") ",
     "delete_cmd_prefix": "rm(",
     "library": "var_list.r",
     "varRefreshCmd": "cat(var_dic_list()) "
    }
   },
   "types_to_exclude": [
    "module",
    "function",
    "builtin_function_or_method",
    "instance",
    "_Feature"
   ],
   "window_display": false
  }
 },
 "nbformat": 4,
 "nbformat_minor": 5
}
