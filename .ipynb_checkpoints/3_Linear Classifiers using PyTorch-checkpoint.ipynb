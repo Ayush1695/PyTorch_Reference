{
 "cells": [
  {
   "cell_type": "code",
   "execution_count": 3,
   "id": "c88ac52a",
   "metadata": {
    "ExecuteTime": {
     "end_time": "2022-12-26T22:45:40.982157Z",
     "start_time": "2022-12-26T22:45:38.210074Z"
    }
   },
   "outputs": [],
   "source": [
    "import torch\n",
    "import torch.nn as nn\n",
    "import matplotlib.pyplot as plt"
   ]
  },
  {
   "cell_type": "code",
   "execution_count": 4,
   "id": "c4d0ca22",
   "metadata": {
    "ExecuteTime": {
     "end_time": "2022-12-26T22:45:41.106575Z",
     "start_time": "2022-12-26T22:45:41.091726Z"
    }
   },
   "outputs": [],
   "source": [
    "# Simple example - Creating logistic functions\n",
    "z = torch.arange(-100, 100, 0.1).view(-1,1)\n",
    "sig = nn.Sigmoid()\n",
    "yhat = sig(z)"
   ]
  },
  {
   "cell_type": "code",
   "execution_count": 5,
   "id": "2d7f66d3",
   "metadata": {
    "ExecuteTime": {
     "end_time": "2022-12-26T22:45:41.233271Z",
     "start_time": "2022-12-26T22:45:41.229156Z"
    }
   },
   "outputs": [
    {
     "data": {
      "text/plain": [
       "tensor([[0.],\n",
       "        [0.],\n",
       "        [0.],\n",
       "        ...,\n",
       "        [1.],\n",
       "        [1.],\n",
       "        [1.]])"
      ]
     },
     "execution_count": 5,
     "metadata": {},
     "output_type": "execute_result"
    }
   ],
   "source": [
    "yhat"
   ]
  },
  {
   "cell_type": "code",
   "execution_count": 6,
   "id": "00714b42",
   "metadata": {
    "ExecuteTime": {
     "end_time": "2022-12-26T22:45:41.422065Z",
     "start_time": "2022-12-26T22:45:41.332067Z"
    }
   },
   "outputs": [
    {
     "data": {
      "text/plain": [
       "[<matplotlib.lines.Line2D at 0x7fb6aa94c610>]"
      ]
     },
     "execution_count": 6,
     "metadata": {},
     "output_type": "execute_result"
    },
    {
     "data": {
      "image/png": "[encoded data removed]",
      "text/plain": [
       "<Figure size 432x288 with 1 Axes>"
      ]
     },
     "metadata": {
      "needs_background": "light"
     },
     "output_type": "display_data"
    }
   ],
   "source": [
    "plt.plot(z.numpy(), yhat.numpy())"
   ]
  },
  {
   "cell_type": "markdown",
   "id": "a996ca27",
   "metadata": {},
   "source": [
    "# Building Logistic Regression Model"
   ]
  },
  {
   "cell_type": "code",
   "execution_count": 7,
   "id": "af8cc644",
   "metadata": {
    "ExecuteTime": {
     "end_time": "2022-12-26T22:45:41.543584Z",
     "start_time": "2022-12-26T22:45:41.531718Z"
    }
   },
   "outputs": [],
   "source": [
    "# Using nn.sequential\n",
    "model = nn.Sequential(nn.Linear(1,1), nn.Sigmoid()) # nn.Sigmoid is a constructor\n",
    "x = torch.tensor([[1.5]])\n",
    "yhat = model(x)"
   ]
  },
  {
   "cell_type": "code",
   "execution_count": 8,
   "id": "a008cd19",
   "metadata": {
    "ExecuteTime": {
     "end_time": "2022-12-26T22:45:41.644034Z",
     "start_time": "2022-12-26T22:45:41.641325Z"
    }
   },
   "outputs": [],
   "source": [
    "# Using nn.Module\n",
    "\n",
    "import torch.nn as nn\n",
    "\n",
    "class logistic_regression(nn.Module):\n",
    "    def __init__(self,in_size,output_size):\n",
    "        super(logistic_regression,self).__init__()\n",
    "        self.linear=nn.Linear(in_size,output_size)\n",
    "            \n",
    "    def forward(self,x):\n",
    "        x = torch.sigmoid(self.linear(x))\n",
    "        return x"
   ]
  },
  {
   "cell_type": "code",
   "execution_count": 9,
   "id": "d9caf6b8",
   "metadata": {
    "ExecuteTime": {
     "end_time": "2022-12-26T22:45:41.744436Z",
     "start_time": "2022-12-26T22:45:41.740386Z"
    }
   },
   "outputs": [],
   "source": [
    "# Side by side comparison\n",
    "torch.manual_seed(122)\n",
    "custom_model = logistic_regression(1,1)\n",
    "sequential_model = nn.Sequential(nn.Linear(1,1),nn.Sigmoid())\n",
    "\n",
    "# Both produce same results - although might have randomly different w and b"
   ]
  },
  {
   "cell_type": "markdown",
   "id": "ab9614fd",
   "metadata": {},
   "source": [
    "**Making a Prediction**"
   ]
  },
  {
   "cell_type": "code",
   "execution_count": 10,
   "id": "1a6162ac",
   "metadata": {
    "ExecuteTime": {
     "end_time": "2022-12-26T22:45:41.856314Z",
     "start_time": "2022-12-26T22:45:41.849563Z"
    }
   },
   "outputs": [
    {
     "name": "stdout",
     "output_type": "stream",
     "text": [
      "[Parameter containing:\n",
      "tensor([[-0.6202]], requires_grad=True), Parameter containing:\n",
      "tensor([0.7383], requires_grad=True)]\n",
      "Yhat: tensor([[0.5295]], grad_fn=<SigmoidBackward0>)\n"
     ]
    }
   ],
   "source": [
    "torch.manual_seed(122)\n",
    "model = logistic_regression(1,1)\n",
    "print(list(model.parameters()))\n",
    "\n",
    "x = torch.tensor([[1.0]])\n",
    "yhat = model(x)\n",
    "print(\"Yhat:\", yhat)\n",
    "# Gives model with b = 0.73 and w = -.62\n",
    "# z = (-.062)*x + 0.73\n",
    "#yhat = sigmoid(z) at given x. Here x = 1"
   ]
  },
  {
   "cell_type": "code",
   "execution_count": 11,
   "id": "06895d42",
   "metadata": {
    "ExecuteTime": {
     "end_time": "2022-12-26T22:45:41.958824Z",
     "start_time": "2022-12-26T22:45:41.955753Z"
    }
   },
   "outputs": [
    {
     "name": "stdout",
     "output_type": "stream",
     "text": [
      "tensor([[5.2949e-01],\n",
      "        [2.4352e-27]], grad_fn=<SigmoidBackward0>)\n"
     ]
    }
   ],
   "source": [
    "# Multi-sample\n",
    "x = torch.tensor([[1.0],[100]])\n",
    "yhat = model(x)\n",
    "print(yhat)"
   ]
  },
  {
   "cell_type": "markdown",
   "id": "dd563b5f",
   "metadata": {},
   "source": [
    "**MultiDimensional Logistic Regression**"
   ]
  },
  {
   "cell_type": "code",
   "execution_count": 12,
   "id": "a7acaf98",
   "metadata": {
    "ExecuteTime": {
     "end_time": "2022-12-26T22:45:42.062480Z",
     "start_time": "2022-12-26T22:45:42.060051Z"
    }
   },
   "outputs": [],
   "source": [
    "custom_2d_model = logistic_regression(2,1)\n",
    "sequential_2d_model = nn.Sequential(nn.Linear(2,1), nn.Sigmoid())"
   ]
  },
  {
   "cell_type": "code",
   "execution_count": 13,
   "id": "bf0b0cac",
   "metadata": {
    "ExecuteTime": {
     "end_time": "2022-12-26T22:45:42.193167Z",
     "start_time": "2022-12-26T22:45:42.188320Z"
    }
   },
   "outputs": [
    {
     "name": "stdout",
     "output_type": "stream",
     "text": [
      "[Parameter containing:\n",
      "tensor([[-0.4385,  0.5220]], requires_grad=True), Parameter containing:\n",
      "tensor([0.3759], requires_grad=True)]\n",
      "Yhat: tensor([[0.6129],\n",
      "        [0.7274]], grad_fn=<SigmoidBackward0>)\n"
     ]
    }
   ],
   "source": [
    "torch.manual_seed(122)\n",
    "\n",
    "# Lets take an example:\n",
    "model = logistic_regression(2,1)\n",
    "print(list(model.parameters()))\n",
    "# b=0.3759, w =[-.4385,0.5220]\n",
    "\n",
    "x = torch.tensor([[1.0,1.0], [1.0,2.0]])\n",
    "yhat = model(x)\n",
    "print(\"Yhat:\", yhat)"
   ]
  },
  {
   "cell_type": "markdown",
   "id": "d2f2ef31",
   "metadata": {},
   "source": [
    "## Bernoilli Distribution & Binary Cross Entropy"
   ]
  },
  {
   "cell_type": "markdown",
   "id": "82bfe955",
   "metadata": {},
   "source": [
    "**Benefit of Cross Entropy**:\n",
    "The advantage of cross-entropy loss is that the only flat point is at the minima"
   ]
  },
  {
   "cell_type": "code",
   "execution_count": 23,
   "id": "4666f817",
   "metadata": {
    "ExecuteTime": {
     "end_time": "2022-12-26T23:03:47.209559Z",
     "start_time": "2022-12-26T23:03:47.197099Z"
    }
   },
   "outputs": [],
   "source": [
    "from torch.utils.data import Dataset, DataLoader\n",
    "class Data(Dataset):\n",
    "    \n",
    "    # Constructor:\n",
    "    def __init__(self):\n",
    "        self.x = torch.arange(-1,1,0.1).view(-1,1)\n",
    "        self.y = torch.zeros(self.x.shape[0],1)\n",
    "        self.y[self.x[:,0]>0.2] = 1\n",
    "        self.len = self.x.shape[0]\n",
    "        \n",
    "    #\n",
    "    def __getitem__(self, index):\n",
    "        return self.x[index], self.y[index]\n",
    "    \n",
    "    def __len__(self):\n",
    "        return self.len"
   ]
  },
  {
   "cell_type": "code",
   "execution_count": 24,
   "id": "16d1e8cf",
   "metadata": {
    "ExecuteTime": {
     "end_time": "2022-12-26T23:03:47.395846Z",
     "start_time": "2022-12-26T23:03:47.385063Z"
    }
   },
   "outputs": [],
   "source": [
    "# Create the Data Object:\n",
    "data_set = Data()"
   ]
  },
  {
   "cell_type": "markdown",
   "id": "1f881ded",
   "metadata": {},
   "source": [
    "### Create the Model and Total Loss Function (Cost)"
   ]
  },
  {
   "cell_type": "code",
   "execution_count": 47,
   "id": "404e26b4",
   "metadata": {
    "ExecuteTime": {
     "end_time": "2022-12-26T23:24:36.565160Z",
     "start_time": "2022-12-26T23:24:36.554830Z"
    }
   },
   "outputs": [],
   "source": [
    "class logistic_regression(nn.Module):\n",
    "    # Constructor\n",
    "    def __init__(self, n_inputs):\n",
    "        super(logistic_regression,self).__init__()\n",
    "        self.linear = nn.Linear(n_inputs,1)\n",
    "        \n",
    "    # Prediction\n",
    "    def forward(self,x):\n",
    "        yhat = torch.sigmoid(self.linear(x))\n",
    "        return yhat"
   ]
  },
  {
   "cell_type": "code",
   "execution_count": 48,
   "id": "36a1ec4f",
   "metadata": {
    "ExecuteTime": {
     "end_time": "2022-12-26T23:24:36.729335Z",
     "start_time": "2022-12-26T23:24:36.727182Z"
    }
   },
   "outputs": [],
   "source": [
    "# Create the logistic_regression result\n",
    "model = logistic_regression(1)"
   ]
  },
  {
   "cell_type": "code",
   "execution_count": 49,
   "id": "7f346a66",
   "metadata": {
    "ExecuteTime": {
     "end_time": "2022-12-26T23:24:36.900823Z",
     "start_time": "2022-12-26T23:24:36.896743Z"
    }
   },
   "outputs": [
    {
     "name": "stdout",
     "output_type": "stream",
     "text": [
      "The Parameters: OrderedDict([('linear.weight', tensor([[-5.]])), ('linear.bias', tensor([-10.]))])\n"
     ]
    }
   ],
   "source": [
    "model.state_dict()['linear.weight'].data[0] = torch.tensor([[-5]])\n",
    "model.state_dict()['linear.bias'].data[0] = torch.tensor([[-10]])\n",
    "print(\"The Parameters:\", model.state_dict())"
   ]
  },
  {
   "cell_type": "code",
   "execution_count": 50,
   "id": "2c2fb31a",
   "metadata": {
    "ExecuteTime": {
     "end_time": "2022-12-26T23:24:37.075388Z",
     "start_time": "2022-12-26T23:24:37.072867Z"
    }
   },
   "outputs": [],
   "source": [
    "# Create dataloader, criterion fuction and optimizer\n",
    "criterion = nn.BCELoss() # Binary Cross Entropy loss\n",
    "\n",
    "trainloader = DataLoader(dataset = data_set, batch_size = 3)\n",
    "learning_rate = 2\n",
    "optimizer = torch.optim.SGD(model.parameters(), lr = learning_rate)"
   ]
  },
  {
   "cell_type": "markdown",
   "id": "df2aba2e",
   "metadata": {},
   "source": [
    "### Train the model using Batch GD"
   ]
  },
  {
   "cell_type": "code",
   "execution_count": 53,
   "id": "7759ac14",
   "metadata": {
    "ExecuteTime": {
     "end_time": "2022-12-26T23:24:42.659428Z",
     "start_time": "2022-12-26T23:24:42.648698Z"
    }
   },
   "outputs": [],
   "source": [
    "def train_model(epochs):\n",
    "    for epoch in range(epochs):\n",
    "        for x,y in trainloader:\n",
    "            yhat = model(x)\n",
    "            loss = criterion(yhat,y)\n",
    "            optimizer.zero_grad()\n",
    "            loss.backward()\n",
    "            optimizer.step()\n",
    "            print(loss.data)\n"
   ]
  },
  {
   "cell_type": "code",
   "execution_count": 55,
   "id": "8cb83d40",
   "metadata": {
    "ExecuteTime": {
     "end_time": "2022-12-26T23:26:03.235469Z",
     "start_time": "2022-12-26T23:26:03.222188Z"
    }
   },
   "outputs": [
    {
     "name": "stdout",
     "output_type": "stream",
     "text": [
      "The Parameters: OrderedDict([('linear.weight', tensor([[14.8594]])), ('linear.bias', tensor([-3.6106]))])\n"
     ]
    }
   ],
   "source": [
    "print(\"The Parameters:\", model.state_dict())"
   ]
  },
  {
   "cell_type": "code",
   "execution_count": 56,
   "id": "30cf9b78",
   "metadata": {
    "ExecuteTime": {
     "end_time": "2022-12-26T23:27:18.664959Z",
     "start_time": "2022-12-26T23:27:18.650722Z"
    }
   },
   "outputs": [
    {
     "name": "stdout",
     "output_type": "stream",
     "text": [
      "The accuracy:  tensor(1.)\n"
     ]
    }
   ],
   "source": [
    "# Make the Prediction\n",
    "\n",
    "yhat = model(data_set.x)\n",
    "label = yhat > 0.5\n",
    "print(\"The accuracy: \", torch.mean((label == data_set.y.type(torch.ByteTensor)).type(torch.float)))"
   ]
  }
 ],
 "metadata": {
  "kernelspec": {
   "display_name": "Python 3 (ipykernel)",
   "language": "python",
   "name": "python3"
  },
  "language_info": {
   "codemirror_mode": {
    "name": "ipython",
    "version": 3
   },
   "file_extension": ".py",
   "mimetype": "text/x-python",
   "name": "python",
   "nbconvert_exporter": "python",
   "pygments_lexer": "ipython3",
   "version": "3.9.12"
  },
  "varInspector": {
   "cols": {
    "lenName": 16,
    "lenType": 16,
    "lenVar": 40
   },
   "kernels_config": {
    "python": {
     "delete_cmd_postfix": "",
     "delete_cmd_prefix": "del ",
     "library": "var_list.py",
     "varRefreshCmd": "print(var_dic_list())"
    },
    "r": {
     "delete_cmd_postfix": ") ",
     "delete_cmd_prefix": "rm(",
     "library": "var_list.r",
     "varRefreshCmd": "cat(var_dic_list()) "
    }
   },
   "types_to_exclude": [
    "module",
    "function",
    "builtin_function_or_method",
    "instance",
    "_Feature"
   ],
   "window_display": false
  }
 },
 "nbformat": 4,
 "nbformat_minor": 5
}
