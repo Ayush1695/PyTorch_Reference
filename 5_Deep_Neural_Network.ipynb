{
 "cells": [
  {
   "cell_type": "code",
   "execution_count": 1,
   "id": "b6a4ea25",
   "metadata": {
    "ExecuteTime": {
     "end_time": "2022-12-29T16:18:29.414032Z",
     "start_time": "2022-12-29T16:18:27.335768Z"
    }
   },
   "outputs": [
    {
     "data": {
      "text/plain": [
       "<torch._C.Generator at 0x7f7da01fcb70>"
      ]
     },
     "execution_count": 1,
     "metadata": {},
     "output_type": "execute_result"
    }
   ],
   "source": [
    "import torch \n",
    "import torch.nn as nn\n",
    "import torchvision.transforms as transforms\n",
    "import torchvision.datasets as dsets\n",
    "import torch.nn.functional as F\n",
    "import matplotlib.pylab as plt\n",
    "import numpy as np\n",
    "torch.manual_seed(2)"
   ]
  },
  {
   "cell_type": "markdown",
   "id": "72c0c19d",
   "metadata": {},
   "source": [
    "<h2 id=\"Model\">Neural Network Module and Training Function</h2> \n"
   ]
  },
  {
   "cell_type": "markdown",
   "id": "65f5ae74",
   "metadata": {},
   "source": [
    "<img src=\"https://ibm.box.com/shared/static/5wtclahun0f70qlwkn2kxzh3amnbq4zg.png\" width=\"200\" alt=\"Neural Network Model\">\n"
   ]
  },
  {
   "cell_type": "code",
   "execution_count": 2,
   "id": "5b37363a",
   "metadata": {
    "ExecuteTime": {
     "end_time": "2022-12-29T16:18:29.447364Z",
     "start_time": "2022-12-29T16:18:29.443898Z"
    }
   },
   "outputs": [],
   "source": [
    "# Using relu activation function\n",
    "class NetRelu(nn.Module):\n",
    "    \n",
    "    # Constructor\n",
    "    def __init__(self, D_in, H1, H2, D_out):\n",
    "        '''\n",
    "        D_in = Total dimenstiom in the input layer\n",
    "        H1 = Total neurons in the first hidden layer\n",
    "        H2 = Total neurons in the second hidden layer\n",
    "        D_out = Total output from from model\n",
    "        '''\n",
    "        super(NetRelu, self).__init__()\n",
    "        self.linear1 = nn.Linear(D_in, H1)\n",
    "        self.linear2 = nn.Linear(H1,H2)\n",
    "        self.linear3 = nn.Linear(H2, D_out)\n",
    "        \n",
    "    # Predictions\n",
    "    def forward(self, x):\n",
    "        x = torch.relu(self.linear1(x)) # Hidden layer 1\n",
    "        x = torch.relu(self.linear2(x)) # Hidden layer 2\n",
    "        x = self.linear3(x) # Output layer\n",
    "        return x"
   ]
  },
  {
   "cell_type": "code",
   "execution_count": 3,
   "id": "289520ed",
   "metadata": {
    "ExecuteTime": {
     "end_time": "2022-12-29T16:18:29.476158Z",
     "start_time": "2022-12-29T16:18:29.472215Z"
    }
   },
   "outputs": [],
   "source": [
    "# Train the model\n",
    "\n",
    "def train(model, criterion, train_loader, validation_loader, optimizer, epochs=100):\n",
    "    i = 0\n",
    "    useful_stuff = {'training_loss': [], 'validation_accuracy': []}  \n",
    "    \n",
    "    for epoch in range(epochs):\n",
    "        for i, (x, y) in enumerate(train_loader):\n",
    "            optimizer.zero_grad()\n",
    "            z = model(x.view(-1, 28 * 28))\n",
    "            loss = criterion(z, y)\n",
    "            loss.backward()\n",
    "            optimizer.step()\n",
    "            useful_stuff['training_loss'].append(loss.data.item())\n",
    "        \n",
    "        correct = 0\n",
    "        for x, y in validation_loader:\n",
    "            z = model(x.view(-1, 28 * 28))\n",
    "            _, label = torch.max(z, 1)\n",
    "            correct += (label == y).sum().item()\n",
    "    \n",
    "        accuracy = 100 * (correct / len(validation_dataset))\n",
    "        useful_stuff['validation_accuracy'].append(accuracy)\n",
    "    \n",
    "    return useful_stuff"
   ]
  },
  {
   "cell_type": "code",
   "execution_count": 4,
   "id": "da7348ac",
   "metadata": {
    "ExecuteTime": {
     "end_time": "2022-12-29T16:18:29.542625Z",
     "start_time": "2022-12-29T16:18:29.505975Z"
    }
   },
   "outputs": [],
   "source": [
    "# Make some data\n",
    "train_dataset = dsets.MNIST(root = './data', train = True, download = True, transform = transforms.ToTensor())\n",
    "\n",
    "# Create the validating dataset\n",
    "validation_dataset = dsets.MNIST(root='./data', train=False, download=True, transform=transforms.ToTensor())\n",
    "\n",
    "\n",
    "# Create the training data loader and validation data loader object\n",
    "train_loader = torch.utils.data.DataLoader(dataset=train_dataset, batch_size=2000, shuffle=True)\n",
    "validation_loader = torch.utils.data.DataLoader(dataset=validation_dataset, batch_size=5000, shuffle=False)"
   ]
  },
  {
   "cell_type": "code",
   "execution_count": 5,
   "id": "209e5856",
   "metadata": {
    "ExecuteTime": {
     "end_time": "2022-12-29T16:18:29.576157Z",
     "start_time": "2022-12-29T16:18:29.573967Z"
    }
   },
   "outputs": [],
   "source": [
    "# Define the model parameters\n",
    "criterion = nn.CrossEntropyLoss()\n",
    "\n",
    "# Set the parameters for create the model\n",
    "input_dim = 28*28\n",
    "hidden_dim1 = 50\n",
    "hidden_dim2 = 50\n",
    "output_dim = 10\n",
    "\n",
    "# Set the epoch numbers\n",
    "cust_epochs = 50\n",
    "\n",
    "learning_rate = 0.01"
   ]
  },
  {
   "cell_type": "code",
   "execution_count": 6,
   "id": "99d90ca0",
   "metadata": {
    "ExecuteTime": {
     "end_time": "2022-12-29T16:21:48.333767Z",
     "start_time": "2022-12-29T16:18:29.737933Z"
    }
   },
   "outputs": [],
   "source": [
    "# Train the model\n",
    "\n",
    "modelRelu = NetRelu(input_dim, hidden_dim1, hidden_dim2, output_dim)\n",
    "optimizer = torch.optim.SGD(modelRelu.parameters(), lr = learning_rate)\n",
    "training_results_relu = train(modelRelu, criterion, train_loader, validation_loader, optimizer, epochs = cust_epochs)"
   ]
  },
  {
   "cell_type": "code",
   "execution_count": 7,
   "id": "c48ea58d",
   "metadata": {
    "ExecuteTime": {
     "end_time": "2022-12-29T16:21:48.479886Z",
     "start_time": "2022-12-29T16:21:48.383547Z"
    }
   },
   "outputs": [
    {
     "data": {
      "text/plain": [
       "<matplotlib.legend.Legend at 0x7f7df2109d00>"
      ]
     },
     "execution_count": 7,
     "metadata": {},
     "output_type": "execute_result"
    },
    {
     "data": {
      "image/png": "[encoded data removed]",
      "text/plain": [
       "<Figure size 432x288 with 1 Axes>"
      ]
     },
     "metadata": {
      "needs_background": "light"
     },
     "output_type": "display_data"
    }
   ],
   "source": [
    "# Compare the training loss\n",
    "\n",
    "plt.plot(training_results_relu['training_loss'], label='relu')\n",
    "plt.ylabel('loss')\n",
    "plt.title('training loss iterations')\n",
    "plt.legend()"
   ]
  },
  {
   "cell_type": "code",
   "execution_count": 8,
   "id": "46adf05d",
   "metadata": {
    "ExecuteTime": {
     "end_time": "2022-12-29T16:23:09.311487Z",
     "start_time": "2022-12-29T16:23:09.205890Z"
    }
   },
   "outputs": [
    {
     "data": {
      "text/plain": [
       "<matplotlib.legend.Legend at 0x7f7dd089f460>"
      ]
     },
     "execution_count": 8,
     "metadata": {},
     "output_type": "execute_result"
    },
    {
     "data": {
      "image/png": "[encoded data removed]",
      "text/plain": [
       "<Figure size 432x288 with 1 Axes>"
      ]
     },
     "metadata": {
      "needs_background": "light"
     },
     "output_type": "display_data"
    }
   ],
   "source": [
    "plt.plot(training_results_relu['validation_accuracy'], label = 'relu') \n",
    "plt.ylabel('validation accuracy')\n",
    "plt.xlabel('Iteration')   \n",
    "plt.legend()"
   ]
  },
  {
   "cell_type": "code",
   "execution_count": null,
   "id": "4a74308b",
   "metadata": {},
   "outputs": [],
   "source": []
  }
 ],
 "metadata": {
  "kernelspec": {
   "display_name": "Python 3 (ipykernel)",
   "language": "python",
   "name": "python3"
  },
  "language_info": {
   "codemirror_mode": {
    "name": "ipython",
    "version": 3
   },
   "file_extension": ".py",
   "mimetype": "text/x-python",
   "name": "python",
   "nbconvert_exporter": "python",
   "pygments_lexer": "ipython3",
   "version": "3.9.12"
  },
  "varInspector": {
   "cols": {
    "lenName": 16,
    "lenType": 16,
    "lenVar": 40
   },
   "kernels_config": {
    "python": {
     "delete_cmd_postfix": "",
     "delete_cmd_prefix": "del ",
     "library": "var_list.py",
     "varRefreshCmd": "print(var_dic_list())"
    },
    "r": {
     "delete_cmd_postfix": ") ",
     "delete_cmd_prefix": "rm(",
     "library": "var_list.r",
     "varRefreshCmd": "cat(var_dic_list()) "
    }
   },
   "types_to_exclude": [
    "module",
    "function",
    "builtin_function_or_method",
    "instance",
    "_Feature"
   ],
   "window_display": false
  }
 },
 "nbformat": 4,
 "nbformat_minor": 5
}
