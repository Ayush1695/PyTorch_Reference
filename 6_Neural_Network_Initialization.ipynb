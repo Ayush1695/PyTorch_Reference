{
 "cells": [
  {
   "cell_type": "code",
   "execution_count": 1,
   "id": "cf33218e",
   "metadata": {
    "ExecuteTime": {
     "end_time": "2022-12-30T22:53:52.928587Z",
     "start_time": "2022-12-30T22:53:51.021840Z"
    }
   },
   "outputs": [
    {
     "data": {
      "text/plain": [
       "<torch._C.Generator at 0x7fbb58c71b30>"
      ]
     },
     "execution_count": 1,
     "metadata": {},
     "output_type": "execute_result"
    }
   ],
   "source": [
    "# Import the libraries\n",
    "\n",
    "import torch\n",
    "import torch.nn as nn\n",
    "import torchvision.transforms as transforms\n",
    "import torchvision.datasets as dsets\n",
    "import matplotlib.pylab as plt\n",
    "import numpy as np\n",
    "import torch.nn.functional as F\n",
    "\n",
    "torch.manual_seed(0)"
   ]
  },
  {
   "cell_type": "markdown",
   "id": "6e0c3b46",
   "metadata": {},
   "source": [
    "<h2 id=\"Model\">Neural Network Module and Training Function using all weight initialization</h2> \n"
   ]
  },
  {
   "cell_type": "markdown",
   "id": "14a90d6f",
   "metadata": {},
   "source": [
    "**1. Xavier Method**\n",
    "\n",
    "torch.nn.init.xavier_uniform"
   ]
  },
  {
   "cell_type": "code",
   "execution_count": 2,
   "id": "78071576",
   "metadata": {
    "ExecuteTime": {
     "end_time": "2022-12-30T22:54:06.730832Z",
     "start_time": "2022-12-30T22:54:06.713766Z"
    }
   },
   "outputs": [],
   "source": [
    "class Net_Xavier(nn.Module):\n",
    "    \n",
    "    # Constructor\n",
    "    def __init__(self, Layers):\n",
    "        super(Net_Xavier, self).__init__()\n",
    "        self.hidden = nn.ModuleList()\n",
    "        \n",
    "        for input_size, output_size in zip(Layers, Layers[1:]):\n",
    "            linear = nn.Linear(input_size, output_size)\n",
    "            torch.nn.init.xavier_uniform_(linear.weight) #initialize weights using xavier method\n",
    "            self.hidden.append(linear)\n",
    "            \n",
    "    def forward(self, x):\n",
    "        L = len(self.hidden)\n",
    "        for (l, linear_transform) in zip(range(L), self.hidden):\n",
    "            if l<L-1:\n",
    "                x = torch.tanh(linear_transform(x))\n",
    "            else:\n",
    "                x = linear_transform(x)\n",
    "        return x\n",
    "        "
   ]
  },
  {
   "cell_type": "markdown",
   "id": "e30fcbf2",
   "metadata": {},
   "source": [
    "**2. Uniform Method**\n",
    "\n",
    "linear.weight.data.uniform_"
   ]
  },
  {
   "cell_type": "code",
   "execution_count": 3,
   "id": "09b51de9",
   "metadata": {
    "ExecuteTime": {
     "end_time": "2022-12-30T22:54:07.491694Z",
     "start_time": "2022-12-30T22:54:07.471599Z"
    }
   },
   "outputs": [],
   "source": [
    "# Define the class for neural network model with Uniform Initialization\n",
    "\n",
    "class Net_Uniform(nn.Module):\n",
    "    \n",
    "    # Constructor\n",
    "    def __init__(self, Layers):\n",
    "        super(Net_Uniform, self).__init__()\n",
    "        self.hidden = nn.ModuleList()\n",
    "\n",
    "        for input_size, output_size in zip(Layers, Layers[1:]):\n",
    "            linear = nn.Linear(input_size,output_size)\n",
    "            linear.weight.data.uniform_(0, 1) #initialize weights using uniform method\n",
    "            self.hidden.append(linear)\n",
    "    \n",
    "    # Prediction\n",
    "    def forward(self, x):\n",
    "        L = len(self.hidden)\n",
    "        for (l, linear_transform) in zip(range(L), self.hidden):\n",
    "            if l < L - 1:\n",
    "                x = F.relu(linear_transform(x))\n",
    "            else:\n",
    "                x = linear_transform(x)\n",
    "                \n",
    "        return x"
   ]
  },
  {
   "cell_type": "markdown",
   "id": "3ab5a103",
   "metadata": {},
   "source": [
    "3. **Default Method of pytorch**"
   ]
  },
  {
   "cell_type": "code",
   "execution_count": 11,
   "id": "9af701ed",
   "metadata": {
    "ExecuteTime": {
     "end_time": "2022-12-30T23:02:41.526984Z",
     "start_time": "2022-12-30T23:02:41.510645Z"
    }
   },
   "outputs": [],
   "source": [
    "# Define the class for neural network model with PyTorch Default Initialization\n",
    "\n",
    "class Net(nn.Module):\n",
    "    \n",
    "    # Constructor\n",
    "    def __init__(self, Layers):\n",
    "        super(Net, self).__init__()\n",
    "        self.hidden = nn.ModuleList()\n",
    "\n",
    "        for input_size, output_size in zip(Layers, Layers[1:]):\n",
    "            linear = nn.Linear(input_size, output_size)\n",
    "            self.hidden.append(linear) \n",
    "        \n",
    "    def forward(self, x):\n",
    "        L=len(self.hidden)\n",
    "        for (l, linear_transform) in zip(range(L), self.hidden):\n",
    "            if l < L - 1:\n",
    "                x = F.relu(linear_transform(x))\n",
    "            else:\n",
    "                x = linear_transform(x)\n",
    "                \n",
    "        return x"
   ]
  },
  {
   "cell_type": "markdown",
   "id": "ab39bf67",
   "metadata": {},
   "source": [
    "**4. He Method for weight initialization**\n",
    "\n",
    "torch.nn.init.kaiming_uniform_"
   ]
  },
  {
   "cell_type": "code",
   "execution_count": 12,
   "id": "e1cc8fe8",
   "metadata": {
    "ExecuteTime": {
     "end_time": "2022-12-30T23:02:41.848125Z",
     "start_time": "2022-12-30T23:02:41.824776Z"
    }
   },
   "outputs": [],
   "source": [
    "# Define the class for neural network model with He Initialization\n",
    "\n",
    "class Net_He(nn.Module):\n",
    "    \n",
    "    # Constructor\n",
    "    def __init__(self, Layers):\n",
    "        super(Net_He, self).__init__()\n",
    "        self.hidden = nn.ModuleList()\n",
    "\n",
    "        for input_size, output_size in zip(Layers, Layers[1:]):\n",
    "            linear = nn.Linear(input_size, output_size)\n",
    "            torch.nn.init.kaiming_uniform_(linear.weight, nonlinearity='relu') # Generaly used when ReLU is used\n",
    "            self.hidden.append(linear)\n",
    "\n",
    "    # Prediction\n",
    "    def forward(self, x):\n",
    "        L = len(self.hidden)\n",
    "        for (l, linear_transform) in zip(range(L), self.hidden):\n",
    "            if l < L - 1:\n",
    "                x = F.relu(linear_transform(x))\n",
    "            else:\n",
    "                x = linear_transform(x)\n",
    "        return x"
   ]
  },
  {
   "cell_type": "markdown",
   "id": "0e23637e",
   "metadata": {},
   "source": [
    "**Create the train function**"
   ]
  },
  {
   "cell_type": "code",
   "execution_count": 13,
   "id": "27e17c44",
   "metadata": {
    "ExecuteTime": {
     "end_time": "2022-12-30T23:02:42.352377Z",
     "start_time": "2022-12-30T23:02:42.327084Z"
    }
   },
   "outputs": [],
   "source": [
    "def train(model, criterion, train_loader, validation_loader, optimizer, epochs = 100):\n",
    "    i = 0\n",
    "    loss_accuracy = {'training_loss' : [], 'validation_accuracy' : []}\n",
    "    \n",
    "    for epoch in range(epochs):\n",
    "        for i, (x,y) in enumerate(train_loader):\n",
    "            optimizer.zero_grad()\n",
    "            z = model(x.view(-1,28*28))\n",
    "            loss = criterion(z, y)\n",
    "            loss.backward()\n",
    "            optimizer.step()\n",
    "            loss_accuracy['training_loss'].append(loss.data.item())\n",
    "            \n",
    "        correct = 0 # initialize total correct classification as 0.\n",
    "        # For every batch we will keep adding total correctly classified \n",
    "        \n",
    "        for x,y in validation_loader:\n",
    "            yhat = model(x.view(-1, 28*28))\n",
    "            _, label = torch.max(yhat, 1)\n",
    "            correct += (label==y).sum().item()\n",
    "        \n",
    "        accuracy = 100 * ( correct / len(validation_dataset))\n",
    "        loss_accuracy['validation_accuracy'].append(accuracy)\n",
    "        \n",
    "        \n",
    "    return loss_accuracy"
   ]
  },
  {
   "cell_type": "markdown",
   "id": "a2ab6512",
   "metadata": {},
   "source": [
    "**Make some data**"
   ]
  },
  {
   "cell_type": "code",
   "execution_count": 14,
   "id": "d8d532ee",
   "metadata": {
    "ExecuteTime": {
     "end_time": "2022-12-30T23:02:44.187605Z",
     "start_time": "2022-12-30T23:02:44.128378Z"
    }
   },
   "outputs": [],
   "source": [
    "# Create the train dataset\n",
    "train_dataset = dsets.MNIST(root='./data', train=True, download=True, transform=transforms.ToTensor())\n",
    "\n",
    "# Create the validation dataset\n",
    "validation_dataset = dsets.MNIST(root='./data', train=False, download=True, transform=transforms.ToTensor())\n",
    "\n",
    "# Create Dataloader for both train dataset and validation dataset\n",
    "train_loader = torch.utils.data.DataLoader(dataset=train_dataset, batch_size=2000, shuffle=True)\n",
    "validation_loader = torch.utils.data.DataLoader(dataset=validation_dataset, batch_size=5000, shuffle=False)"
   ]
  },
  {
   "cell_type": "markdown",
   "id": "adac3383",
   "metadata": {},
   "source": [
    "**Define model parameters**"
   ]
  },
  {
   "cell_type": "code",
   "execution_count": 15,
   "id": "b41d8ba4",
   "metadata": {
    "ExecuteTime": {
     "end_time": "2022-12-30T23:02:44.754142Z",
     "start_time": "2022-12-30T23:02:44.736222Z"
    }
   },
   "outputs": [],
   "source": [
    "criterion = nn.CrossEntropyLoss()\n",
    "\n",
    "# Set parameters\n",
    "learning_rate = 0.01\n",
    "input_dim = 28*28 # Images are 28*28 pixel\n",
    "output_dim = 10 # As there can be total 10 outcomes\n",
    "layers = [input_dim, 100, 10, 100, 10, 100, output_dim] # 5 hidden layers\n",
    "epochs = 15"
   ]
  },
  {
   "cell_type": "markdown",
   "id": "713a96ae",
   "metadata": {},
   "source": [
    "**Test PyTorch Default Initialization, Xavier Initialization, Uniform Initialization, He Initialization**"
   ]
  },
  {
   "cell_type": "code",
   "execution_count": 9,
   "id": "6504fcb9",
   "metadata": {
    "ExecuteTime": {
     "end_time": "2022-12-30T22:59:21.585468Z",
     "start_time": "2022-12-30T22:54:11.465772Z"
    }
   },
   "outputs": [],
   "source": [
    "# Train the model with Xavier initialization\n",
    "\n",
    "model_Xavier = Net_Xavier(layers)\n",
    "optimizer = torch.optim.SGD(model_Xavier.parameters(), lr=learning_rate)\n",
    "training_results_Xavier = train(model_Xavier, criterion, train_loader, validation_loader, optimizer, epochs=epochs)\n",
    "\n",
    "# Train the model with Uniform initialization\n",
    "\n",
    "model_Uniform = Net_Uniform(layers)\n",
    "optimizer = torch.optim.SGD(model_Uniform.parameters(), lr=learning_rate)\n",
    "training_results_Uniform = train(model_Uniform, criterion, train_loader, validation_loader, optimizer, epochs=epochs)\n",
    "\n",
    "# Train the model with default initialization\n",
    "\n",
    "model = Net(layers)\n",
    "learning_rate = 0.01\n",
    "optimizer = torch.optim.SGD(model.parameters(), lr=learning_rate)\n",
    "training_results = train(model, criterion, train_loader, validation_loader, optimizer, epochs=epochs)\n",
    "\n",
    "\n",
    "# Train the model with the He initialization\n",
    "\n",
    "model_He = Net_He(layers)\n",
    "optimizer = torch.optim.SGD(model_He.parameters(), lr=learning_rate)\n",
    "training_results_He = train(model_He, criterion, train_loader, validation_loader, optimizer, epochs=epochs)"
   ]
  },
  {
   "cell_type": "code",
   "execution_count": 16,
   "id": "f4e965a8",
   "metadata": {
    "ExecuteTime": {
     "end_time": "2022-12-30T23:03:52.214566Z",
     "start_time": "2022-12-30T23:02:50.458930Z"
    }
   },
   "outputs": [],
   "source": [
    "model_He = Net_He(layers)\n",
    "optimizer = torch.optim.SGD(model_He.parameters(), lr=learning_rate)\n",
    "training_results_He = train(model_He, criterion, train_loader, validation_loader, optimizer, epochs=epochs)"
   ]
  },
  {
   "cell_type": "code",
   "execution_count": 17,
   "id": "e8f510aa",
   "metadata": {
    "ExecuteTime": {
     "end_time": "2022-12-30T23:04:00.128945Z",
     "start_time": "2022-12-30T23:03:59.986811Z"
    }
   },
   "outputs": [
    {
     "data": {
      "image/png": "[encoded data removed]",
      "text/plain": [
       "<Figure size 432x288 with 1 Axes>"
      ]
     },
     "metadata": {
      "needs_background": "light"
     },
     "output_type": "display_data"
    }
   ],
   "source": [
    "# Plot the accuracy\n",
    "\n",
    "plt.plot(training_results_He['validation_accuracy'], label='He')\n",
    "plt.plot(training_results['validation_accuracy'], label='Default')\n",
    "plt.plot(training_results_Uniform['validation_accuracy'], label='Uniform')\n",
    "plt.plot(training_results_Xavier['validation_accuracy'], label='Xavier')\n",
    "plt.ylabel('validation accuracy')\n",
    "plt.xlabel('epochs ')   \n",
    "plt.legend()\n",
    "plt.show()"
   ]
  },
  {
   "cell_type": "code",
   "execution_count": null,
   "id": "102bd59e",
   "metadata": {},
   "outputs": [],
   "source": []
  }
 ],
 "metadata": {
  "kernelspec": {
   "display_name": "Python 3 (ipykernel)",
   "language": "python",
   "name": "python3"
  },
  "language_info": {
   "codemirror_mode": {
    "name": "ipython",
    "version": 3
   },
   "file_extension": ".py",
   "mimetype": "text/x-python",
   "name": "python",
   "nbconvert_exporter": "python",
   "pygments_lexer": "ipython3",
   "version": "3.9.12"
  },
  "varInspector": {
   "cols": {
    "lenName": 16,
    "lenType": 16,
    "lenVar": 40
   },
   "kernels_config": {
    "python": {
     "delete_cmd_postfix": "",
     "delete_cmd_prefix": "del ",
     "library": "var_list.py",
     "varRefreshCmd": "print(var_dic_list())"
    },
    "r": {
     "delete_cmd_postfix": ") ",
     "delete_cmd_prefix": "rm(",
     "library": "var_list.r",
     "varRefreshCmd": "cat(var_dic_list()) "
    }
   },
   "types_to_exclude": [
    "module",
    "function",
    "builtin_function_or_method",
    "instance",
    "_Feature"
   ],
   "window_display": false
  }
 },
 "nbformat": 4,
 "nbformat_minor": 5
}
